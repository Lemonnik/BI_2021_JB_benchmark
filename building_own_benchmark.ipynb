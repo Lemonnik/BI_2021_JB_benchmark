{
  "nbformat": 4,
  "nbformat_minor": 0,
  "metadata": {
    "colab": {
      "name": "building own benchmark.ipynb",
      "provenance": [],
      "collapsed_sections": [],
      "authorship_tag": "ABX9TyNCC3DxhE9h2b0NJcSvKmok",
      "include_colab_link": true
    },
    "kernelspec": {
      "name": "python3",
      "display_name": "Python 3"
    },
    "language_info": {
      "name": "python"
    }
  },
  "cells": [
    {
      "cell_type": "markdown",
      "metadata": {
        "id": "view-in-github",
        "colab_type": "text"
      },
      "source": [
        "<a href=\"https://colab.research.google.com/github/Lemonnik/BI_2021_JB_benchmark/blob/main/building_own_benchmark.ipynb\" target=\"_parent\"><img src=\"https://colab.research.google.com/assets/colab-badge.svg\" alt=\"Open In Colab\"/></a>"
      ]
    },
    {
      "cell_type": "code",
      "execution_count": null,
      "metadata": {
        "id": "UY4rVkJ2KWMh"
      },
      "outputs": [],
      "source": [
        "import numpy as np\n",
        "import pandas as pd\n",
        "import seaborn as sns\n",
        "\n",
        "from tqdm import trange\n",
        "import warnings"
      ]
    },
    {
      "cell_type": "code",
      "source": [
        "# rdkit\n",
        "!pip install rdkit-pypi\n",
        "import rdkit\n",
        "from rdkit import Chem\n",
        "from rdkit.Chem import Draw\n",
        "\n",
        "# deepchem\n",
        "!pip install deepchem\n",
        "import deepchem as dc\n",
        "from deepchem.models import GCNModel"
      ],
      "metadata": {
        "colab": {
          "base_uri": "https://localhost:8080/"
        },
        "id": "yqNqVsQpFTAQ",
        "outputId": "16faa9c1-943f-4008-ce9d-5314644ce22a"
      },
      "execution_count": null,
      "outputs": [
        {
          "output_type": "stream",
          "name": "stdout",
          "text": [
            "Collecting rdkit-pypi\n",
            "  Downloading rdkit_pypi-2021.9.5.1-cp37-cp37m-manylinux_2_17_x86_64.manylinux2014_x86_64.whl (22.3 MB)\n",
            "\u001b[K     |████████████████████████████████| 22.3 MB 1.4 MB/s \n",
            "\u001b[?25hRequirement already satisfied: Pillow in /usr/local/lib/python3.7/dist-packages (from rdkit-pypi) (7.1.2)\n",
            "Requirement already satisfied: numpy>=1.19 in /usr/local/lib/python3.7/dist-packages (from rdkit-pypi) (1.21.5)\n",
            "Installing collected packages: rdkit-pypi\n",
            "Successfully installed rdkit-pypi-2021.9.5.1\n",
            "Collecting deepchem\n",
            "  Downloading deepchem-2.6.1-py3-none-any.whl (608 kB)\n",
            "\u001b[K     |████████████████████████████████| 608 kB 4.8 MB/s \n",
            "\u001b[?25hRequirement already satisfied: pandas in /usr/local/lib/python3.7/dist-packages (from deepchem) (1.3.5)\n",
            "Requirement already satisfied: joblib in /usr/local/lib/python3.7/dist-packages (from deepchem) (1.1.0)\n",
            "Requirement already satisfied: scikit-learn in /usr/local/lib/python3.7/dist-packages (from deepchem) (1.0.2)\n",
            "Requirement already satisfied: numpy>=1.21 in /usr/local/lib/python3.7/dist-packages (from deepchem) (1.21.5)\n",
            "Requirement already satisfied: rdkit-pypi in /usr/local/lib/python3.7/dist-packages (from deepchem) (2021.9.5.1)\n",
            "Requirement already satisfied: scipy in /usr/local/lib/python3.7/dist-packages (from deepchem) (1.4.1)\n",
            "Requirement already satisfied: pytz>=2017.3 in /usr/local/lib/python3.7/dist-packages (from pandas->deepchem) (2018.9)\n",
            "Requirement already satisfied: python-dateutil>=2.7.3 in /usr/local/lib/python3.7/dist-packages (from pandas->deepchem) (2.8.2)\n",
            "Requirement already satisfied: six>=1.5 in /usr/local/lib/python3.7/dist-packages (from python-dateutil>=2.7.3->pandas->deepchem) (1.15.0)\n",
            "Requirement already satisfied: Pillow in /usr/local/lib/python3.7/dist-packages (from rdkit-pypi->deepchem) (7.1.2)\n",
            "Requirement already satisfied: threadpoolctl>=2.0.0 in /usr/local/lib/python3.7/dist-packages (from scikit-learn->deepchem) (3.1.0)\n",
            "Installing collected packages: deepchem\n",
            "Successfully installed deepchem-2.6.1\n"
          ]
        }
      ]
    },
    {
      "cell_type": "code",
      "source": [
        "!pip install dgl\n",
        "!pip install dgllife\n",
        "!pip install torch-geometric\n",
        "# !pip install torch-sparse -f https://data.pyg.org/whl/torch-${TORCH}+${CUDA}.html    # долго грузится, нужен для запуска собранной вручную модели\n",
        "# !pip install torch-scatter -f https://data.pyg.org/whl/torch-${TORCH}+${CUDA}.html   # \n",
        "\n",
        "import torch\n",
        "from torch.nn import Linear\n",
        "# from torch_geometric import data\n",
        "import torch.nn.functional as F \n",
        "from torch_geometric.nn import GCNConv, TopKPooling, global_mean_pool\n",
        "from torch_geometric.nn import global_mean_pool as gap, global_max_pool as gmp\n",
        "from torch_geometric.data import DataLoader\n",
        "\n",
        "from sklearn.metrics import r2_score, mean_squared_error\n",
        "from sklearn.model_selection import train_test_split"
      ],
      "metadata": {
        "colab": {
          "base_uri": "https://localhost:8080/",
          "height": 1000
        },
        "id": "KsNNCpwPFTC3",
        "outputId": "b5880f03-5757-455e-b22b-411bae29e174"
      },
      "execution_count": null,
      "outputs": [
        {
          "output_type": "stream",
          "name": "stdout",
          "text": [
            "Requirement already satisfied: dgl in /usr/local/lib/python3.7/dist-packages (0.6.1)\n",
            "Requirement already satisfied: numpy>=1.14.0 in /usr/local/lib/python3.7/dist-packages (from dgl) (1.21.5)\n",
            "Requirement already satisfied: requests>=2.19.0 in /usr/local/lib/python3.7/dist-packages (from dgl) (2.23.0)\n",
            "Requirement already satisfied: scipy>=1.1.0 in /usr/local/lib/python3.7/dist-packages (from dgl) (1.4.1)\n",
            "Requirement already satisfied: networkx>=2.1 in /usr/local/lib/python3.7/dist-packages (from dgl) (2.6.3)\n",
            "Requirement already satisfied: chardet<4,>=3.0.2 in /usr/local/lib/python3.7/dist-packages (from requests>=2.19.0->dgl) (3.0.4)\n",
            "Requirement already satisfied: certifi>=2017.4.17 in /usr/local/lib/python3.7/dist-packages (from requests>=2.19.0->dgl) (2021.10.8)\n",
            "Requirement already satisfied: urllib3!=1.25.0,!=1.25.1,<1.26,>=1.21.1 in /usr/local/lib/python3.7/dist-packages (from requests>=2.19.0->dgl) (1.24.3)\n",
            "Requirement already satisfied: idna<3,>=2.5 in /usr/local/lib/python3.7/dist-packages (from requests>=2.19.0->dgl) (2.10)\n",
            "Requirement already satisfied: dgllife in /usr/local/lib/python3.7/dist-packages (0.2.9)\n",
            "Requirement already satisfied: tqdm in /usr/local/lib/python3.7/dist-packages (from dgllife) (4.63.0)\n",
            "Requirement already satisfied: scipy>=1.1.0 in /usr/local/lib/python3.7/dist-packages (from dgllife) (1.4.1)\n",
            "Requirement already satisfied: networkx>=2.1 in /usr/local/lib/python3.7/dist-packages (from dgllife) (2.6.3)\n",
            "Requirement already satisfied: hyperopt in /usr/local/lib/python3.7/dist-packages (from dgllife) (0.1.2)\n",
            "Requirement already satisfied: requests>=2.22.0 in /usr/local/lib/python3.7/dist-packages (from dgllife) (2.23.0)\n",
            "Requirement already satisfied: numpy>=1.14.0 in /usr/local/lib/python3.7/dist-packages (from dgllife) (1.21.5)\n",
            "Requirement already satisfied: joblib in /usr/local/lib/python3.7/dist-packages (from dgllife) (1.1.0)\n",
            "Requirement already satisfied: pandas in /usr/local/lib/python3.7/dist-packages (from dgllife) (1.3.5)\n",
            "Requirement already satisfied: scikit-learn>=0.22.2 in /usr/local/lib/python3.7/dist-packages (from dgllife) (1.0.2)\n",
            "Requirement already satisfied: chardet<4,>=3.0.2 in /usr/local/lib/python3.7/dist-packages (from requests>=2.22.0->dgllife) (3.0.4)\n",
            "Requirement already satisfied: urllib3!=1.25.0,!=1.25.1,<1.26,>=1.21.1 in /usr/local/lib/python3.7/dist-packages (from requests>=2.22.0->dgllife) (1.24.3)\n",
            "Requirement already satisfied: idna<3,>=2.5 in /usr/local/lib/python3.7/dist-packages (from requests>=2.22.0->dgllife) (2.10)\n",
            "Requirement already satisfied: certifi>=2017.4.17 in /usr/local/lib/python3.7/dist-packages (from requests>=2.22.0->dgllife) (2021.10.8)\n",
            "Requirement already satisfied: threadpoolctl>=2.0.0 in /usr/local/lib/python3.7/dist-packages (from scikit-learn>=0.22.2->dgllife) (3.1.0)\n",
            "Requirement already satisfied: six in /usr/local/lib/python3.7/dist-packages (from hyperopt->dgllife) (1.15.0)\n",
            "Requirement already satisfied: pymongo in /usr/local/lib/python3.7/dist-packages (from hyperopt->dgllife) (4.0.2)\n",
            "Requirement already satisfied: future in /usr/local/lib/python3.7/dist-packages (from hyperopt->dgllife) (0.16.0)\n",
            "Requirement already satisfied: python-dateutil>=2.7.3 in /usr/local/lib/python3.7/dist-packages (from pandas->dgllife) (2.8.2)\n",
            "Requirement already satisfied: pytz>=2017.3 in /usr/local/lib/python3.7/dist-packages (from pandas->dgllife) (2018.9)\n",
            "Requirement already satisfied: torch-geometric in /usr/local/lib/python3.7/dist-packages (2.0.4)\n",
            "Requirement already satisfied: requests in /usr/local/lib/python3.7/dist-packages (from torch-geometric) (2.23.0)\n",
            "Requirement already satisfied: tqdm in /usr/local/lib/python3.7/dist-packages (from torch-geometric) (4.63.0)\n",
            "Requirement already satisfied: pyparsing in /usr/local/lib/python3.7/dist-packages (from torch-geometric) (3.0.7)\n",
            "Requirement already satisfied: jinja2 in /usr/local/lib/python3.7/dist-packages (from torch-geometric) (2.11.3)\n",
            "Requirement already satisfied: scipy in /usr/local/lib/python3.7/dist-packages (from torch-geometric) (1.4.1)\n",
            "Requirement already satisfied: scikit-learn in /usr/local/lib/python3.7/dist-packages (from torch-geometric) (1.0.2)\n",
            "Requirement already satisfied: pandas in /usr/local/lib/python3.7/dist-packages (from torch-geometric) (1.3.5)\n",
            "Requirement already satisfied: numpy in /usr/local/lib/python3.7/dist-packages (from torch-geometric) (1.21.5)\n",
            "Requirement already satisfied: MarkupSafe>=0.23 in /usr/local/lib/python3.7/dist-packages (from jinja2->torch-geometric) (2.0.1)\n",
            "Requirement already satisfied: python-dateutil>=2.7.3 in /usr/local/lib/python3.7/dist-packages (from pandas->torch-geometric) (2.8.2)\n",
            "Requirement already satisfied: pytz>=2017.3 in /usr/local/lib/python3.7/dist-packages (from pandas->torch-geometric) (2018.9)\n",
            "Requirement already satisfied: six>=1.5 in /usr/local/lib/python3.7/dist-packages (from python-dateutil>=2.7.3->pandas->torch-geometric) (1.15.0)\n",
            "Requirement already satisfied: chardet<4,>=3.0.2 in /usr/local/lib/python3.7/dist-packages (from requests->torch-geometric) (3.0.4)\n",
            "Requirement already satisfied: idna<3,>=2.5 in /usr/local/lib/python3.7/dist-packages (from requests->torch-geometric) (2.10)\n",
            "Requirement already satisfied: certifi>=2017.4.17 in /usr/local/lib/python3.7/dist-packages (from requests->torch-geometric) (2021.10.8)\n",
            "Requirement already satisfied: urllib3!=1.25.0,!=1.25.1,<1.26,>=1.21.1 in /usr/local/lib/python3.7/dist-packages (from requests->torch-geometric) (1.24.3)\n",
            "Requirement already satisfied: joblib>=0.11 in /usr/local/lib/python3.7/dist-packages (from scikit-learn->torch-geometric) (1.1.0)\n",
            "Requirement already satisfied: threadpoolctl>=2.0.0 in /usr/local/lib/python3.7/dist-packages (from scikit-learn->torch-geometric) (3.1.0)\n"
          ]
        },
        {
          "output_type": "error",
          "ename": "ModuleNotFoundError",
          "evalue": "ignored",
          "traceback": [
            "\u001b[0;31m---------------------------------------------------------------------------\u001b[0m",
            "\u001b[0;31mModuleNotFoundError\u001b[0m                       Traceback (most recent call last)",
            "\u001b[0;32m<ipython-input-5-391a3117c672>\u001b[0m in \u001b[0;36m<module>\u001b[0;34m()\u001b[0m\n\u001b[1;32m      7\u001b[0m \u001b[0;31m# from torch_geometric import data\u001b[0m\u001b[0;34m\u001b[0m\u001b[0;34m\u001b[0m\u001b[0;34m\u001b[0m\u001b[0m\n\u001b[1;32m      8\u001b[0m \u001b[0;32mimport\u001b[0m \u001b[0mtorch\u001b[0m\u001b[0;34m.\u001b[0m\u001b[0mnn\u001b[0m\u001b[0;34m.\u001b[0m\u001b[0mfunctional\u001b[0m \u001b[0;32mas\u001b[0m \u001b[0mF\u001b[0m\u001b[0;34m\u001b[0m\u001b[0;34m\u001b[0m\u001b[0m\n\u001b[0;32m----> 9\u001b[0;31m \u001b[0;32mfrom\u001b[0m \u001b[0mtorch_geometric\u001b[0m\u001b[0;34m.\u001b[0m\u001b[0mnn\u001b[0m \u001b[0;32mimport\u001b[0m \u001b[0mGCNConv\u001b[0m\u001b[0;34m,\u001b[0m \u001b[0mTopKPooling\u001b[0m\u001b[0;34m,\u001b[0m \u001b[0mglobal_mean_pool\u001b[0m\u001b[0;34m\u001b[0m\u001b[0;34m\u001b[0m\u001b[0m\n\u001b[0m\u001b[1;32m     10\u001b[0m \u001b[0;32mfrom\u001b[0m \u001b[0mtorch_geometric\u001b[0m\u001b[0;34m.\u001b[0m\u001b[0mnn\u001b[0m \u001b[0;32mimport\u001b[0m \u001b[0mglobal_mean_pool\u001b[0m \u001b[0;32mas\u001b[0m \u001b[0mgap\u001b[0m\u001b[0;34m,\u001b[0m \u001b[0mglobal_max_pool\u001b[0m \u001b[0;32mas\u001b[0m \u001b[0mgmp\u001b[0m\u001b[0;34m\u001b[0m\u001b[0;34m\u001b[0m\u001b[0m\n\u001b[1;32m     11\u001b[0m \u001b[0;32mfrom\u001b[0m \u001b[0mtorch_geometric\u001b[0m\u001b[0;34m.\u001b[0m\u001b[0mdata\u001b[0m \u001b[0;32mimport\u001b[0m \u001b[0mDataLoader\u001b[0m\u001b[0;34m\u001b[0m\u001b[0;34m\u001b[0m\u001b[0m\n",
            "\u001b[0;32m/usr/local/lib/python3.7/dist-packages/torch_geometric/__init__.py\u001b[0m in \u001b[0;36m<module>\u001b[0;34m()\u001b[0m\n\u001b[1;32m      2\u001b[0m \u001b[0;32mfrom\u001b[0m \u001b[0mimportlib\u001b[0m \u001b[0;32mimport\u001b[0m \u001b[0mimport_module\u001b[0m\u001b[0;34m\u001b[0m\u001b[0;34m\u001b[0m\u001b[0m\n\u001b[1;32m      3\u001b[0m \u001b[0;34m\u001b[0m\u001b[0m\n\u001b[0;32m----> 4\u001b[0;31m \u001b[0;32mimport\u001b[0m \u001b[0mtorch_geometric\u001b[0m\u001b[0;34m.\u001b[0m\u001b[0mdata\u001b[0m\u001b[0;34m\u001b[0m\u001b[0;34m\u001b[0m\u001b[0m\n\u001b[0m\u001b[1;32m      5\u001b[0m \u001b[0;32mimport\u001b[0m \u001b[0mtorch_geometric\u001b[0m\u001b[0;34m.\u001b[0m\u001b[0mloader\u001b[0m\u001b[0;34m\u001b[0m\u001b[0;34m\u001b[0m\u001b[0m\n\u001b[1;32m      6\u001b[0m \u001b[0;32mimport\u001b[0m \u001b[0mtorch_geometric\u001b[0m\u001b[0;34m.\u001b[0m\u001b[0mtransforms\u001b[0m\u001b[0;34m\u001b[0m\u001b[0;34m\u001b[0m\u001b[0m\n",
            "\u001b[0;32m/usr/local/lib/python3.7/dist-packages/torch_geometric/data/__init__.py\u001b[0m in \u001b[0;36m<module>\u001b[0;34m()\u001b[0m\n\u001b[0;32m----> 1\u001b[0;31m \u001b[0;32mfrom\u001b[0m \u001b[0;34m.\u001b[0m\u001b[0mdata\u001b[0m \u001b[0;32mimport\u001b[0m \u001b[0mData\u001b[0m\u001b[0;34m\u001b[0m\u001b[0;34m\u001b[0m\u001b[0m\n\u001b[0m\u001b[1;32m      2\u001b[0m \u001b[0;32mfrom\u001b[0m \u001b[0;34m.\u001b[0m\u001b[0mhetero_data\u001b[0m \u001b[0;32mimport\u001b[0m \u001b[0mHeteroData\u001b[0m\u001b[0;34m\u001b[0m\u001b[0;34m\u001b[0m\u001b[0m\n\u001b[1;32m      3\u001b[0m \u001b[0;32mfrom\u001b[0m \u001b[0;34m.\u001b[0m\u001b[0mtemporal\u001b[0m \u001b[0;32mimport\u001b[0m \u001b[0mTemporalData\u001b[0m\u001b[0;34m\u001b[0m\u001b[0;34m\u001b[0m\u001b[0m\n\u001b[1;32m      4\u001b[0m \u001b[0;32mfrom\u001b[0m \u001b[0;34m.\u001b[0m\u001b[0mbatch\u001b[0m \u001b[0;32mimport\u001b[0m \u001b[0mBatch\u001b[0m\u001b[0;34m\u001b[0m\u001b[0;34m\u001b[0m\u001b[0m\n\u001b[1;32m      5\u001b[0m \u001b[0;32mfrom\u001b[0m \u001b[0;34m.\u001b[0m\u001b[0mdataset\u001b[0m \u001b[0;32mimport\u001b[0m \u001b[0mDataset\u001b[0m\u001b[0;34m\u001b[0m\u001b[0;34m\u001b[0m\u001b[0m\n",
            "\u001b[0;32m/usr/local/lib/python3.7/dist-packages/torch_geometric/data/data.py\u001b[0m in \u001b[0;36m<module>\u001b[0;34m()\u001b[0m\n\u001b[1;32m      7\u001b[0m \u001b[0;32mimport\u001b[0m \u001b[0mtorch\u001b[0m\u001b[0;34m\u001b[0m\u001b[0;34m\u001b[0m\u001b[0m\n\u001b[1;32m      8\u001b[0m \u001b[0;32mfrom\u001b[0m \u001b[0mtorch\u001b[0m \u001b[0;32mimport\u001b[0m \u001b[0mTensor\u001b[0m\u001b[0;34m\u001b[0m\u001b[0;34m\u001b[0m\u001b[0m\n\u001b[0;32m----> 9\u001b[0;31m \u001b[0;32mfrom\u001b[0m \u001b[0mtorch_sparse\u001b[0m \u001b[0;32mimport\u001b[0m \u001b[0mSparseTensor\u001b[0m\u001b[0;34m\u001b[0m\u001b[0;34m\u001b[0m\u001b[0m\n\u001b[0m\u001b[1;32m     10\u001b[0m \u001b[0;34m\u001b[0m\u001b[0m\n\u001b[1;32m     11\u001b[0m from torch_geometric.data.storage import (BaseStorage, EdgeStorage,\n",
            "\u001b[0;31mModuleNotFoundError\u001b[0m: No module named 'torch_sparse'",
            "",
            "\u001b[0;31m---------------------------------------------------------------------------\u001b[0;32m\nNOTE: If your import is failing due to a missing package, you can\nmanually install dependencies using either !pip or !apt.\n\nTo view examples of installing some common dependencies, click the\n\"Open Examples\" button below.\n\u001b[0;31m---------------------------------------------------------------------------\u001b[0m\n"
          ],
          "errorDetails": {
            "actions": [
              {
                "action": "open_url",
                "actionText": "Open Examples",
                "url": "/notebooks/snippets/importing_libraries.ipynb"
              }
            ]
          }
        }
      ]
    },
    {
      "cell_type": "code",
      "source": [
        ""
      ],
      "metadata": {
        "id": "4B7AKm1jSMB7"
      },
      "execution_count": null,
      "outputs": []
    },
    {
      "cell_type": "code",
      "source": [
        ""
      ],
      "metadata": {
        "id": "ls5qXSy0Dmb4"
      },
      "execution_count": null,
      "outputs": []
    },
    {
      "cell_type": "markdown",
      "source": [
        "# Импорт датасетов"
      ],
      "metadata": {
        "id": "EdnwX1jHZyC5"
      }
    },
    {
      "cell_type": "markdown",
      "source": [
        "The source data and data folds in the three sample scenarios used in this study are provided on the Zenodo at https://zenodo.org/record/5500305. The source data of the four benchmarks (the Luo’s dataset, Hetionet, the Yamanishi_08’s dataset and BioKG) is available on the https://github.com/luoyunan/DTINet, https://het.io/about/, https://drugtargets.insight-centre.org/, https://github.com/dsi-bdi/biokg, respectively. Source data are provided with this paper.\n",
        "\n",
        "\n",
        "From https://www.nature.com/articles/s41467-021-27137-3#MOESM1"
      ],
      "metadata": {
        "id": "r67_IGf3W3xl"
      }
    },
    {
      "cell_type": "markdown",
      "source": [
        "Структура датасета:\n",
        "\n",
        "* Uniprot ID $-$\n",
        "* Target sequence $-$ белковая последовательность\n",
        "* Drug ID $-$ DrugBank ID\n",
        "* SMILES $-$ ASCII формула соединения в специальном формате\n",
        "* Label $-$ есть ли взаимодействие"
      ],
      "metadata": {
        "id": "sUknxyAYaAk6"
      }
    },
    {
      "cell_type": "code",
      "source": [
        "# data = pd.read_csv('https://deepchemdata.s3-us-west-1.amazonaws.com/datasets/SAMPL.csv')\n",
        "# data.head()"
      ],
      "metadata": {
        "id": "FEaYQN8tZ3rv"
      },
      "execution_count": null,
      "outputs": []
    },
    {
      "cell_type": "code",
      "source": [
        ""
      ],
      "metadata": {
        "id": "wULvCo83T1Cl"
      },
      "execution_count": null,
      "outputs": []
    },
    {
      "cell_type": "markdown",
      "source": [
        "$~$\n",
        "\n",
        "### Yamanishi"
      ],
      "metadata": {
        "id": "JK8m6oWeF4RE"
      }
    },
    {
      "cell_type": "markdown",
      "source": [
        "Stored at https://github.com/luoyunan/DTINet\n",
        "\n",
        "<br>\n",
        "\n",
        "`drug.txt`: list of drug names <br>\n",
        "`protein.txt`: list of protein names <br>\n",
        "`mat_protein_drug.txt`: Protein-Drug interaction matrix <br>\n"
      ],
      "metadata": {
        "id": "qjxH66cUF8-N"
      }
    },
    {
      "cell_type": "code",
      "source": [
        "import requests\n",
        "import time\n",
        "from tqdm.notebook import tqdm\n",
        "\n",
        "\n",
        "# for proteins\n",
        "!pip install biopython\n",
        "from Bio import SeqIO\n",
        "from io import StringIO\n",
        "\n",
        "# for drugs (CID --> smiles)\n",
        "!pip install pubchempy\n",
        "import pubchempy as pcp"
      ],
      "metadata": {
        "id": "VhyhaKEtF3Rb",
        "colab": {
          "base_uri": "https://localhost:8080/"
        },
        "outputId": "ca15c814-742a-4ea8-db26-cbe34deaa2f9"
      },
      "execution_count": null,
      "outputs": [
        {
          "output_type": "stream",
          "name": "stdout",
          "text": [
            "Requirement already satisfied: biopython in /usr/local/lib/python3.7/dist-packages (1.79)\n",
            "Requirement already satisfied: numpy in /usr/local/lib/python3.7/dist-packages (from biopython) (1.21.5)\n",
            "Requirement already satisfied: pubchempy in /usr/local/lib/python3.7/dist-packages (1.0.4)\n"
          ]
        }
      ]
    },
    {
      "cell_type": "code",
      "source": [
        "def parse_uniprot(uniprot_ids):\n",
        "    '''\n",
        "    UniProt IDs --> [(ID, sequence), ...] array\n",
        "    '''\n",
        "\n",
        "    baseUrl = 'https://www.uniprot.org/uniprot/'\n",
        "\n",
        "    protein_to_pdb = []\n",
        "\n",
        "    for protein in tqdm(uniprot_ids, total=len(uniprot_ids)):\n",
        "        currentUrl = baseUrl + protein + \".fasta\"\n",
        "        response = requests.post(currentUrl)\n",
        "        cData = ''.join(response.text)\n",
        "\n",
        "        Seq = StringIO(cData)\n",
        "        pSeq=list(SeqIO.parse(Seq,'fasta'))\n",
        "        if pSeq:\n",
        "            # protein_to_pdb[protein] = str(pSeq[0].seq)\n",
        "            protein_to_pdb.append((protein, str(pSeq[0].seq)))\n",
        "        else:\n",
        "            print(f\"Unable to read protein {protein}. Sequence will be replaced with '{float('nan')}'\")\n",
        "            # protein_to_pdb[protein] = float('nan')\n",
        "            protein_to_pdb.append((protein, float('nan')))\n",
        "\n",
        "        time.sleep(0.001)  # be respectful and don't overwhelm the server with requests\n",
        "\n",
        "    return protein_to_pdb"
      ],
      "metadata": {
        "id": "LDxBhJI60nKS"
      },
      "execution_count": null,
      "outputs": []
    },
    {
      "cell_type": "code",
      "source": [
        "from math import nan\n",
        "# read https://pubchemdocs.ncbi.nlm.nih.gov/pug-rest\n",
        "\n",
        "# P.S. Берём каноническую изоформу, а есть ещё isomeric\n",
        "\n",
        "\n",
        "def parse_drugbank(drugbank_ids):\n",
        "    '''\n",
        "    DrugBank IDs --> [(DrugBank ID, SMILES), ...] array\n",
        "    '''\n",
        "\n",
        "    url1 = 'https://pubchem.ncbi.nlm.nih.gov/rest/pug/substance/sourceid/drugbank/'\n",
        "    url3 = '/json'\n",
        "\n",
        "    n_drugs = len(drugbank_ids)\n",
        "\n",
        "    smiles = []\n",
        "\n",
        "    for drug in tqdm(drugbank_ids, total=n_drugs):\n",
        "        # DrugBank ID --> PubChem Compound ID (CID)\n",
        "        response = requests.get(url1+drug+url3)\n",
        "        try:\n",
        "            cid = response.json()['PC_Substances'][0]['compound'][1]['id']['id']['cid']\n",
        "        except:\n",
        "            print(f\"Some problems with drug {drug} on stage \\'DrugBankID --> CID\\'. Creating ({drug},{float('NaN')}) pair.\")\n",
        "            smiles.append((drug, float('NaN')))\n",
        "            continue\n",
        "\n",
        "        # CID --> {CID: SMILES} dict\n",
        "        try:\n",
        "            s = pcp.Compound.from_cid(cid).canonical_smiles\n",
        "            smiles.append((drug, s))\n",
        "        except:\n",
        "            print(f\"Some problems with drug {drug} on stage \\'CID --> SMILES\\'. Creating ({drug},{float('NaN')}) pair.\")\n",
        "            smiles.append((drug, float('NaN')))\n",
        "            continue\n",
        "\n",
        "        # little pause\n",
        "        time.sleep(0.001)\n",
        "\n",
        "    return smiles"
      ],
      "metadata": {
        "id": "NQeWixP4-237"
      },
      "execution_count": null,
      "outputs": []
    },
    {
      "cell_type": "code",
      "source": [
        "def load_yamanishi(n_proteins=-1):\n",
        "    folder = 'https://raw.githubusercontent.com/luoyunan/DTINet/master/data/'\n",
        "\n",
        "    # get SMILES\n",
        "    print('Loading drugs...')\n",
        "    response_d = requests.get(folder + 'drug.txt')\n",
        "    yamanishi_drug_ids = response_d.text.split()\n",
        "    yamanishi_drug_smiles = parse_drugbank(yamanishi_drug_ids)\n",
        "    print('That\\'s all with drugs\\n')\n",
        "\n",
        "    # get protein sequences\n",
        "    print('Loading proteins...')\n",
        "    response_p = requests.get(folder + 'protein.txt')\n",
        "    yamanishi_prot_ids = response_p.text.split()\n",
        "    yamanishi_prot_seqs = parse_uniprot(yamanishi_prot_ids[:n_proteins])  # ограничение на белки n_proteins\n",
        "    print('That\\'s all with proteins\\n')\n",
        "\n",
        "    # get drug-target protein interaction info\n",
        "    print('Loading DTI matrix...')\n",
        "    response_dti = requests.get(folder + 'mat_protein_drug.txt')\n",
        "    yamanishi_dti = response_dti.text.strip()\n",
        "    yamanishi_dti = [int(row) for row in yamanishi_dti if row in ['0', '1']]  # делаем один длинный массив из 0 и 1\n",
        "    print('Matrix donwloaded, creating final dataset...\\n')\n",
        "\n",
        "\n",
        "    # чтобы не бежать по всем значениям мы как бы умножаем массив на нужное число взаимодействий\n",
        "    # то есть если у нас 2 белка и 3 лекарства,\n",
        "    #    то вместо белков   ['prot1', 'prot2']           станет   ['prot1', 'prot1', 'prot1', 'prot2', 'prot2', 'prot2'] \n",
        "    #    а вместо лекарств  ['drug1', 'drug2', 'drug3']  станет   ['drug1', 'drug2', 'drug3', 'drug1', 'drug2', 'drug3']\n",
        "    #    и в итоге получим нужные взаимодействия\n",
        "\n",
        "    # ПРОБЛЕМА: если качать втупую, то получаются слишком большие датафрэймы в памяти\n",
        "\n",
        "    df = pd.DataFrame({\"Uniprot ID\": np.concatenate([([p[0]]*len(yamanishi_drug_smiles)) for p in yamanishi_prot_seqs], axis=0),\n",
        "                       \"Target sequence\": np.concatenate([([p[1]]*len(yamanishi_drug_smiles)) for p in yamanishi_prot_seqs], axis=0),\n",
        "                       \"Drug ID\": [d[0] for d in yamanishi_drug_smiles] * len(yamanishi_prot_seqs),\n",
        "                       \"SMILES\": [d[1] for d in yamanishi_drug_smiles] * len(yamanishi_prot_seqs),\n",
        "                       \"Label\": yamanishi_dti[:len(yamanishi_drug_smiles)*len(yamanishi_prot_seqs)]}  # ограничение на белки n_proteins\n",
        "                      )\n",
        "\n",
        "\n",
        "    print('Finished!')\n",
        "\n",
        "    return df"
      ],
      "metadata": {
        "colab": {
          "base_uri": "https://localhost:8080/"
        },
        "id": "tcHlpfhh0Rrp",
        "outputId": "171ce223-d972-415d-bceb-fa95e7a69b39"
      },
      "execution_count": null,
      "outputs": [
        {
          "output_type": "stream",
          "name": "stdout",
          "text": [
            "Loading DTI matrix...\n",
            "Matrix donwloaded, creating final dataset...\n",
            "\n",
            "Finished!\n"
          ]
        }
      ]
    },
    {
      "cell_type": "code",
      "source": [
        ""
      ],
      "metadata": {
        "id": "M6vlo2U3Inh-"
      },
      "execution_count": null,
      "outputs": []
    },
    {
      "cell_type": "code",
      "source": [
        "load_yamanishi(2)  # загрузит 2 первых белка. Чисто посмотреть что работает"
      ],
      "metadata": {
        "colab": {
          "base_uri": "https://localhost:8080/",
          "height": 424
        },
        "id": "Hp5y5GfiHQRl",
        "outputId": "026aa135-7fe9-453f-91e4-82366b2c7d48"
      },
      "execution_count": null,
      "outputs": [
        {
          "output_type": "execute_result",
          "data": {
            "text/plain": [
              "     Uniprot ID                                    Target sequence  Drug ID  \\\n",
              "0        Q9UI32  MRSMKALQKALSRAGSHCGRGGWGHPSRSPLLGGGVRHHLSEAAAQ...  DB00050   \n",
              "1        Q9UI32  MRSMKALQKALSRAGSHCGRGGWGHPSRSPLLGGGVRHHLSEAAAQ...  DB00152   \n",
              "2        Q9UI32  MRSMKALQKALSRAGSHCGRGGWGHPSRSPLLGGGVRHHLSEAAAQ...  DB00162   \n",
              "3        Q9UI32  MRSMKALQKALSRAGSHCGRGGWGHPSRSPLLGGGVRHHLSEAAAQ...  DB00175   \n",
              "4        Q9UI32  MRSMKALQKALSRAGSHCGRGGWGHPSRSPLLGGGVRHHLSEAAAQ...  DB00176   \n",
              "...         ...                                                ...      ...   \n",
              "1411     P00488  MSETSRTAFGGRRAVPPNNSNAAEDDLPTVELQGVVPRGVNLQEFL...  DB06711   \n",
              "1412     P00488  MSETSRTAFGGRRAVPPNNSNAAEDDLPTVELQGVVPRGVNLQEFL...  DB06800   \n",
              "1413     P00488  MSETSRTAFGGRRAVPPNNSNAAEDDLPTVELQGVVPRGVNLQEFL...  DB06811   \n",
              "1414     P00488  MSETSRTAFGGRRAVPPNNSNAAEDDLPTVELQGVVPRGVNLQEFL...  DB08826   \n",
              "1415     P00488  MSETSRTAFGGRRAVPPNNSNAAEDDLPTVELQGVVPRGVNLQEFL...  DB08860   \n",
              "\n",
              "                                                 SMILES  Label  \n",
              "0     CC(C)CC(C(=O)NC(CCCN=C(N)N)C(=O)N1CCCC1C(=O)NC...      0  \n",
              "1                    CC1=C(SC=[N+]1CC2=CN=C(N=C2N)C)CCO      0  \n",
              "2                CC1=C(C(CCC1)(C)C)C=CC(=CC=CC(=CCO)C)C      0  \n",
              "3                                                   NaN      0  \n",
              "4                  COCCCCC(=NOCCN)C1=CC=C(C=C1)C(F)(F)F      0  \n",
              "...                                                 ...    ...  \n",
              "1411                     C1CN=C(N1)CC2=CC=CC3=CC=CC=C32      0  \n",
              "1412  C[N+]1(CCC23C4C(=O)CCC2(C1CC5=C3C(=C(C=C5)O)O4...      0  \n",
              "1413           CCCCCCCCCCCCOCCOCCOCCOCCOCCOCCOCCOCCOCCO      0  \n",
              "1414                                CC1=C(C(=O)C=CN1C)O      0  \n",
              "1415  C1CC1C2=NC3=CC=CC=C3C(=C2C=CC(CC(CC(=O)O)O)O)C...      0  \n",
              "\n",
              "[1416 rows x 5 columns]"
            ],
            "text/html": [
              "\n",
              "  <div id=\"df-6708cf7b-a4ab-45b9-bd4a-cc01f1ee85d2\">\n",
              "    <div class=\"colab-df-container\">\n",
              "      <div>\n",
              "<style scoped>\n",
              "    .dataframe tbody tr th:only-of-type {\n",
              "        vertical-align: middle;\n",
              "    }\n",
              "\n",
              "    .dataframe tbody tr th {\n",
              "        vertical-align: top;\n",
              "    }\n",
              "\n",
              "    .dataframe thead th {\n",
              "        text-align: right;\n",
              "    }\n",
              "</style>\n",
              "<table border=\"1\" class=\"dataframe\">\n",
              "  <thead>\n",
              "    <tr style=\"text-align: right;\">\n",
              "      <th></th>\n",
              "      <th>Uniprot ID</th>\n",
              "      <th>Target sequence</th>\n",
              "      <th>Drug ID</th>\n",
              "      <th>SMILES</th>\n",
              "      <th>Label</th>\n",
              "    </tr>\n",
              "  </thead>\n",
              "  <tbody>\n",
              "    <tr>\n",
              "      <th>0</th>\n",
              "      <td>Q9UI32</td>\n",
              "      <td>MRSMKALQKALSRAGSHCGRGGWGHPSRSPLLGGGVRHHLSEAAAQ...</td>\n",
              "      <td>DB00050</td>\n",
              "      <td>CC(C)CC(C(=O)NC(CCCN=C(N)N)C(=O)N1CCCC1C(=O)NC...</td>\n",
              "      <td>0</td>\n",
              "    </tr>\n",
              "    <tr>\n",
              "      <th>1</th>\n",
              "      <td>Q9UI32</td>\n",
              "      <td>MRSMKALQKALSRAGSHCGRGGWGHPSRSPLLGGGVRHHLSEAAAQ...</td>\n",
              "      <td>DB00152</td>\n",
              "      <td>CC1=C(SC=[N+]1CC2=CN=C(N=C2N)C)CCO</td>\n",
              "      <td>0</td>\n",
              "    </tr>\n",
              "    <tr>\n",
              "      <th>2</th>\n",
              "      <td>Q9UI32</td>\n",
              "      <td>MRSMKALQKALSRAGSHCGRGGWGHPSRSPLLGGGVRHHLSEAAAQ...</td>\n",
              "      <td>DB00162</td>\n",
              "      <td>CC1=C(C(CCC1)(C)C)C=CC(=CC=CC(=CCO)C)C</td>\n",
              "      <td>0</td>\n",
              "    </tr>\n",
              "    <tr>\n",
              "      <th>3</th>\n",
              "      <td>Q9UI32</td>\n",
              "      <td>MRSMKALQKALSRAGSHCGRGGWGHPSRSPLLGGGVRHHLSEAAAQ...</td>\n",
              "      <td>DB00175</td>\n",
              "      <td>NaN</td>\n",
              "      <td>0</td>\n",
              "    </tr>\n",
              "    <tr>\n",
              "      <th>4</th>\n",
              "      <td>Q9UI32</td>\n",
              "      <td>MRSMKALQKALSRAGSHCGRGGWGHPSRSPLLGGGVRHHLSEAAAQ...</td>\n",
              "      <td>DB00176</td>\n",
              "      <td>COCCCCC(=NOCCN)C1=CC=C(C=C1)C(F)(F)F</td>\n",
              "      <td>0</td>\n",
              "    </tr>\n",
              "    <tr>\n",
              "      <th>...</th>\n",
              "      <td>...</td>\n",
              "      <td>...</td>\n",
              "      <td>...</td>\n",
              "      <td>...</td>\n",
              "      <td>...</td>\n",
              "    </tr>\n",
              "    <tr>\n",
              "      <th>1411</th>\n",
              "      <td>P00488</td>\n",
              "      <td>MSETSRTAFGGRRAVPPNNSNAAEDDLPTVELQGVVPRGVNLQEFL...</td>\n",
              "      <td>DB06711</td>\n",
              "      <td>C1CN=C(N1)CC2=CC=CC3=CC=CC=C32</td>\n",
              "      <td>0</td>\n",
              "    </tr>\n",
              "    <tr>\n",
              "      <th>1412</th>\n",
              "      <td>P00488</td>\n",
              "      <td>MSETSRTAFGGRRAVPPNNSNAAEDDLPTVELQGVVPRGVNLQEFL...</td>\n",
              "      <td>DB06800</td>\n",
              "      <td>C[N+]1(CCC23C4C(=O)CCC2(C1CC5=C3C(=C(C=C5)O)O4...</td>\n",
              "      <td>0</td>\n",
              "    </tr>\n",
              "    <tr>\n",
              "      <th>1413</th>\n",
              "      <td>P00488</td>\n",
              "      <td>MSETSRTAFGGRRAVPPNNSNAAEDDLPTVELQGVVPRGVNLQEFL...</td>\n",
              "      <td>DB06811</td>\n",
              "      <td>CCCCCCCCCCCCOCCOCCOCCOCCOCCOCCOCCOCCOCCO</td>\n",
              "      <td>0</td>\n",
              "    </tr>\n",
              "    <tr>\n",
              "      <th>1414</th>\n",
              "      <td>P00488</td>\n",
              "      <td>MSETSRTAFGGRRAVPPNNSNAAEDDLPTVELQGVVPRGVNLQEFL...</td>\n",
              "      <td>DB08826</td>\n",
              "      <td>CC1=C(C(=O)C=CN1C)O</td>\n",
              "      <td>0</td>\n",
              "    </tr>\n",
              "    <tr>\n",
              "      <th>1415</th>\n",
              "      <td>P00488</td>\n",
              "      <td>MSETSRTAFGGRRAVPPNNSNAAEDDLPTVELQGVVPRGVNLQEFL...</td>\n",
              "      <td>DB08860</td>\n",
              "      <td>C1CC1C2=NC3=CC=CC=C3C(=C2C=CC(CC(CC(=O)O)O)O)C...</td>\n",
              "      <td>0</td>\n",
              "    </tr>\n",
              "  </tbody>\n",
              "</table>\n",
              "<p>1416 rows × 5 columns</p>\n",
              "</div>\n",
              "      <button class=\"colab-df-convert\" onclick=\"convertToInteractive('df-6708cf7b-a4ab-45b9-bd4a-cc01f1ee85d2')\"\n",
              "              title=\"Convert this dataframe to an interactive table.\"\n",
              "              style=\"display:none;\">\n",
              "        \n",
              "  <svg xmlns=\"http://www.w3.org/2000/svg\" height=\"24px\"viewBox=\"0 0 24 24\"\n",
              "       width=\"24px\">\n",
              "    <path d=\"M0 0h24v24H0V0z\" fill=\"none\"/>\n",
              "    <path d=\"M18.56 5.44l.94 2.06.94-2.06 2.06-.94-2.06-.94-.94-2.06-.94 2.06-2.06.94zm-11 1L8.5 8.5l.94-2.06 2.06-.94-2.06-.94L8.5 2.5l-.94 2.06-2.06.94zm10 10l.94 2.06.94-2.06 2.06-.94-2.06-.94-.94-2.06-.94 2.06-2.06.94z\"/><path d=\"M17.41 7.96l-1.37-1.37c-.4-.4-.92-.59-1.43-.59-.52 0-1.04.2-1.43.59L10.3 9.45l-7.72 7.72c-.78.78-.78 2.05 0 2.83L4 21.41c.39.39.9.59 1.41.59.51 0 1.02-.2 1.41-.59l7.78-7.78 2.81-2.81c.8-.78.8-2.07 0-2.86zM5.41 20L4 18.59l7.72-7.72 1.47 1.35L5.41 20z\"/>\n",
              "  </svg>\n",
              "      </button>\n",
              "      \n",
              "  <style>\n",
              "    .colab-df-container {\n",
              "      display:flex;\n",
              "      flex-wrap:wrap;\n",
              "      gap: 12px;\n",
              "    }\n",
              "\n",
              "    .colab-df-convert {\n",
              "      background-color: #E8F0FE;\n",
              "      border: none;\n",
              "      border-radius: 50%;\n",
              "      cursor: pointer;\n",
              "      display: none;\n",
              "      fill: #1967D2;\n",
              "      height: 32px;\n",
              "      padding: 0 0 0 0;\n",
              "      width: 32px;\n",
              "    }\n",
              "\n",
              "    .colab-df-convert:hover {\n",
              "      background-color: #E2EBFA;\n",
              "      box-shadow: 0px 1px 2px rgba(60, 64, 67, 0.3), 0px 1px 3px 1px rgba(60, 64, 67, 0.15);\n",
              "      fill: #174EA6;\n",
              "    }\n",
              "\n",
              "    [theme=dark] .colab-df-convert {\n",
              "      background-color: #3B4455;\n",
              "      fill: #D2E3FC;\n",
              "    }\n",
              "\n",
              "    [theme=dark] .colab-df-convert:hover {\n",
              "      background-color: #434B5C;\n",
              "      box-shadow: 0px 1px 3px 1px rgba(0, 0, 0, 0.15);\n",
              "      filter: drop-shadow(0px 1px 2px rgba(0, 0, 0, 0.3));\n",
              "      fill: #FFFFFF;\n",
              "    }\n",
              "  </style>\n",
              "\n",
              "      <script>\n",
              "        const buttonEl =\n",
              "          document.querySelector('#df-6708cf7b-a4ab-45b9-bd4a-cc01f1ee85d2 button.colab-df-convert');\n",
              "        buttonEl.style.display =\n",
              "          google.colab.kernel.accessAllowed ? 'block' : 'none';\n",
              "\n",
              "        async function convertToInteractive(key) {\n",
              "          const element = document.querySelector('#df-6708cf7b-a4ab-45b9-bd4a-cc01f1ee85d2');\n",
              "          const dataTable =\n",
              "            await google.colab.kernel.invokeFunction('convertToInteractive',\n",
              "                                                     [key], {});\n",
              "          if (!dataTable) return;\n",
              "\n",
              "          const docLinkHtml = 'Like what you see? Visit the ' +\n",
              "            '<a target=\"_blank\" href=https://colab.research.google.com/notebooks/data_table.ipynb>data table notebook</a>'\n",
              "            + ' to learn more about interactive tables.';\n",
              "          element.innerHTML = '';\n",
              "          dataTable['output_type'] = 'display_data';\n",
              "          await google.colab.output.renderOutput(dataTable, element);\n",
              "          const docLink = document.createElement('div');\n",
              "          docLink.innerHTML = docLinkHtml;\n",
              "          element.appendChild(docLink);\n",
              "        }\n",
              "      </script>\n",
              "    </div>\n",
              "  </div>\n",
              "  "
            ]
          },
          "metadata": {},
          "execution_count": 27
        }
      ]
    },
    {
      "cell_type": "code",
      "source": [
        ""
      ],
      "metadata": {
        "id": "SPr5godWCgYT"
      },
      "execution_count": null,
      "outputs": []
    },
    {
      "cell_type": "code",
      "source": [
        "print('Всего взаимодействий:', 1512*708)  # число белков на число молекул"
      ],
      "metadata": {
        "colab": {
          "base_uri": "https://localhost:8080/"
        },
        "id": "6-H_AKzkk30j",
        "outputId": "81a93e47-ecad-4062-e2fb-3e1d81bd4956"
      },
      "execution_count": null,
      "outputs": [
        {
          "output_type": "stream",
          "name": "stdout",
          "text": [
            "Всего взаимодействий: 1070496\n"
          ]
        }
      ]
    },
    {
      "cell_type": "code",
      "source": [
        ""
      ],
      "metadata": {
        "id": "x8ZpORyPCga1"
      },
      "execution_count": null,
      "outputs": []
    },
    {
      "cell_type": "code",
      "source": [
        "# yamanishi_dpi2 = [yamanishi_dpi[i].split(' ') for i in range(len(yamanishi_dpi))]"
      ],
      "metadata": {
        "id": "n-_dwwRZRDRO"
      },
      "execution_count": null,
      "outputs": []
    },
    {
      "cell_type": "code",
      "source": [
        "# len(yamanishi_dpi2[0]), len(yamanishi_dpi2)"
      ],
      "metadata": {
        "colab": {
          "base_uri": "https://localhost:8080/"
        },
        "id": "jaBEdTEcRDUY",
        "outputId": "53eee5e8-53ff-4b3a-db52-ee978eb6e8fc"
      },
      "execution_count": null,
      "outputs": [
        {
          "output_type": "execute_result",
          "data": {
            "text/plain": [
              "(708, 1512)"
            ]
          },
          "metadata": {},
          "execution_count": 198
        }
      ]
    },
    {
      "cell_type": "code",
      "source": [
        ""
      ],
      "metadata": {
        "id": "axrIkpqCXgaT"
      },
      "execution_count": null,
      "outputs": []
    },
    {
      "cell_type": "code",
      "source": [
        ""
      ],
      "metadata": {
        "id": "DvSOSpbKXgnt"
      },
      "execution_count": null,
      "outputs": []
    },
    {
      "cell_type": "markdown",
      "source": [
        "### DAVIS & BindingDB"
      ],
      "metadata": {
        "id": "vlcaIzs1EahT"
      }
    },
    {
      "cell_type": "markdown",
      "source": [
        "Can be taken from https://github.com/kexinhuang12345/MolTrans/tree/master/dataset\n",
        "\n"
      ],
      "metadata": {
        "id": "f355C5HnEbqU"
      }
    },
    {
      "cell_type": "code",
      "source": [
        "# all from https://github.com/kexinhuang12345/MolTrans/tree/master/dataset\n",
        "\n",
        "dataFolder = 'https://raw.githubusercontent.com/kexinhuang12345/MolTrans/master/dataset/DAVIS/'        # DAVIS\n",
        "# dataFolder = 'https://raw.githubusercontent.com/kexinhuang12345/MolTrans/master/dataset/BindingDB/'  # BindingDB\n",
        "\n",
        "\n",
        "# TODO: Luo, Yamanishi, ..."
      ],
      "metadata": {
        "id": "MIA3MI6mT1GS"
      },
      "execution_count": null,
      "outputs": []
    },
    {
      "cell_type": "code",
      "source": [
        "davis_train = pd.read_csv(dataFolder + '/train.csv', index_col=0)\n",
        "davis_test = pd.read_csv(dataFolder + '/test.csv', index_col=0)\n",
        "davis_val = pd.read_csv(dataFolder + '/val.csv', index_col=0)\n",
        "\n",
        "\n",
        "# TODO: не знаю по какому принципу они в той статье делили исходный на 3 части\n",
        "#       поэтому может лучше взять большой и уже потом самостоятельно его делить"
      ],
      "metadata": {
        "id": "Ukwf8IfcSL4I"
      },
      "execution_count": null,
      "outputs": []
    },
    {
      "cell_type": "code",
      "source": [
        "davis_train.Label.values"
      ],
      "metadata": {
        "colab": {
          "base_uri": "https://localhost:8080/"
        },
        "id": "-g_noWTccotl",
        "outputId": "cfdbd608-3d94-4c68-b3f7-c237d7844e58"
      },
      "execution_count": null,
      "outputs": [
        {
          "output_type": "execute_result",
          "data": {
            "text/plain": [
              "array([1, 1, 1, ..., 0, 0, 0])"
            ]
          },
          "metadata": {},
          "execution_count": 5
        }
      ]
    },
    {
      "cell_type": "code",
      "source": [
        ""
      ],
      "metadata": {
        "id": "wbB32hambH2h"
      },
      "execution_count": null,
      "outputs": []
    },
    {
      "cell_type": "code",
      "source": [
        "davis_val.info()"
      ],
      "metadata": {
        "colab": {
          "base_uri": "https://localhost:8080/"
        },
        "id": "dxA15G5caLhq",
        "outputId": "774deddb-204c-43e0-bf9b-22b56a53c6b9"
      },
      "execution_count": null,
      "outputs": [
        {
          "output_type": "stream",
          "name": "stdout",
          "text": [
            "<class 'pandas.core.frame.DataFrame'>\n",
            "Int64Index: 3006 entries, 0 to 3005\n",
            "Data columns (total 5 columns):\n",
            " #   Column           Non-Null Count  Dtype \n",
            "---  ------           --------------  ----- \n",
            " 0   SMILES           3006 non-null   object\n",
            " 1   Target Sequence  3006 non-null   object\n",
            " 2   Label            3006 non-null   int64 \n",
            " 3   drug_encoding    3006 non-null   object\n",
            " 4   target_encoding  3006 non-null   object\n",
            "dtypes: int64(1), object(4)\n",
            "memory usage: 140.9+ KB\n"
          ]
        }
      ]
    },
    {
      "cell_type": "code",
      "source": [
        "davis_train.head()"
      ],
      "metadata": {
        "colab": {
          "base_uri": "https://localhost:8080/",
          "height": 357
        },
        "id": "ToSnHfw-aNFn",
        "outputId": "a2b79244-c3f3-4297-c958-bbc8a60868a0"
      },
      "execution_count": null,
      "outputs": [
        {
          "output_type": "execute_result",
          "data": {
            "text/plain": [
              "                                              SMILES  \\\n",
              "0  CC1=C2C=C(C=CC2=NN1)C3=CC(=CN=C3)OCC(CC4=CC=CC...   \n",
              "1  CC1=C2C=C(C=CC2=NN1)C3=CC(=CN=C3)OCC(CC4=CC=CC...   \n",
              "2  CC1=C2C=C(C=CC2=NN1)C3=CC(=CN=C3)OCC(CC4=CC=CC...   \n",
              "3  CC1=C2C=C(C=CC2=NN1)C3=CC(=CN=C3)OCC(CC4=CC=CC...   \n",
              "4  CC1=C2C=C(C=CC2=NN1)C3=CC(=CN=C3)OCC(CC4=CC=CC...   \n",
              "\n",
              "                                     Target Sequence  Label  \\\n",
              "0  MLKFKYGARNPLDAGAAEPIASRASRLNLFFQGKPPFMTQQQMSPL...      1   \n",
              "1  MRHSKRTYCPDWDDKDWDYGKWRSSSSHKRRKRSHSSAQENKRCKY...      1   \n",
              "2  MRHSKRTHCPDWDSRESWGHESYRGSHKRKRRSHSSTQENRHCKPH...      1   \n",
              "3  MAPFLRIAFNSYELGSLQAEDEANQPFCAVKMKEALSTERGKTLVQ...      1   \n",
              "4  MVVFNGLLKIKICEAVSLKPTAWSLRHAVGPRPQTFLLDPYIALNV...      1   \n",
              "\n",
              "             drug_encoding                                  target_encoding  \n",
              "0  [0. 1. 0. ... 0. 0. 0.]        [7.499 6.66  3.552 ... 0.    0.    0.   ]  \n",
              "1  [0. 1. 0. ... 0. 0. 0.]        [3.306 9.091 2.893 ... 0.    0.    0.   ]  \n",
              "2  [0. 1. 0. ... 0. 0. 0.]  [ 2.703 10.187  2.911 ...  0.     0.     0.   ]  \n",
              "3  [0. 1. 0. ... 0. 0. 0.]        [5.769 4.882 4.29  ... 0.    0.    0.   ]  \n",
              "4  [0. 1. 0. ... 0. 0. 0.]        [5.834 5.834 3.799 ... 0.    0.    0.   ]  "
            ],
            "text/html": [
              "\n",
              "  <div id=\"df-f7a79415-15c5-4698-b4b5-dab5ce856e09\">\n",
              "    <div class=\"colab-df-container\">\n",
              "      <div>\n",
              "<style scoped>\n",
              "    .dataframe tbody tr th:only-of-type {\n",
              "        vertical-align: middle;\n",
              "    }\n",
              "\n",
              "    .dataframe tbody tr th {\n",
              "        vertical-align: top;\n",
              "    }\n",
              "\n",
              "    .dataframe thead th {\n",
              "        text-align: right;\n",
              "    }\n",
              "</style>\n",
              "<table border=\"1\" class=\"dataframe\">\n",
              "  <thead>\n",
              "    <tr style=\"text-align: right;\">\n",
              "      <th></th>\n",
              "      <th>SMILES</th>\n",
              "      <th>Target Sequence</th>\n",
              "      <th>Label</th>\n",
              "      <th>drug_encoding</th>\n",
              "      <th>target_encoding</th>\n",
              "    </tr>\n",
              "  </thead>\n",
              "  <tbody>\n",
              "    <tr>\n",
              "      <th>0</th>\n",
              "      <td>CC1=C2C=C(C=CC2=NN1)C3=CC(=CN=C3)OCC(CC4=CC=CC...</td>\n",
              "      <td>MLKFKYGARNPLDAGAAEPIASRASRLNLFFQGKPPFMTQQQMSPL...</td>\n",
              "      <td>1</td>\n",
              "      <td>[0. 1. 0. ... 0. 0. 0.]</td>\n",
              "      <td>[7.499 6.66  3.552 ... 0.    0.    0.   ]</td>\n",
              "    </tr>\n",
              "    <tr>\n",
              "      <th>1</th>\n",
              "      <td>CC1=C2C=C(C=CC2=NN1)C3=CC(=CN=C3)OCC(CC4=CC=CC...</td>\n",
              "      <td>MRHSKRTYCPDWDDKDWDYGKWRSSSSHKRRKRSHSSAQENKRCKY...</td>\n",
              "      <td>1</td>\n",
              "      <td>[0. 1. 0. ... 0. 0. 0.]</td>\n",
              "      <td>[3.306 9.091 2.893 ... 0.    0.    0.   ]</td>\n",
              "    </tr>\n",
              "    <tr>\n",
              "      <th>2</th>\n",
              "      <td>CC1=C2C=C(C=CC2=NN1)C3=CC(=CN=C3)OCC(CC4=CC=CC...</td>\n",
              "      <td>MRHSKRTHCPDWDSRESWGHESYRGSHKRKRRSHSSTQENRHCKPH...</td>\n",
              "      <td>1</td>\n",
              "      <td>[0. 1. 0. ... 0. 0. 0.]</td>\n",
              "      <td>[ 2.703 10.187  2.911 ...  0.     0.     0.   ]</td>\n",
              "    </tr>\n",
              "    <tr>\n",
              "      <th>3</th>\n",
              "      <td>CC1=C2C=C(C=CC2=NN1)C3=CC(=CN=C3)OCC(CC4=CC=CC...</td>\n",
              "      <td>MAPFLRIAFNSYELGSLQAEDEANQPFCAVKMKEALSTERGKTLVQ...</td>\n",
              "      <td>1</td>\n",
              "      <td>[0. 1. 0. ... 0. 0. 0.]</td>\n",
              "      <td>[5.769 4.882 4.29  ... 0.    0.    0.   ]</td>\n",
              "    </tr>\n",
              "    <tr>\n",
              "      <th>4</th>\n",
              "      <td>CC1=C2C=C(C=CC2=NN1)C3=CC(=CN=C3)OCC(CC4=CC=CC...</td>\n",
              "      <td>MVVFNGLLKIKICEAVSLKPTAWSLRHAVGPRPQTFLLDPYIALNV...</td>\n",
              "      <td>1</td>\n",
              "      <td>[0. 1. 0. ... 0. 0. 0.]</td>\n",
              "      <td>[5.834 5.834 3.799 ... 0.    0.    0.   ]</td>\n",
              "    </tr>\n",
              "  </tbody>\n",
              "</table>\n",
              "</div>\n",
              "      <button class=\"colab-df-convert\" onclick=\"convertToInteractive('df-f7a79415-15c5-4698-b4b5-dab5ce856e09')\"\n",
              "              title=\"Convert this dataframe to an interactive table.\"\n",
              "              style=\"display:none;\">\n",
              "        \n",
              "  <svg xmlns=\"http://www.w3.org/2000/svg\" height=\"24px\"viewBox=\"0 0 24 24\"\n",
              "       width=\"24px\">\n",
              "    <path d=\"M0 0h24v24H0V0z\" fill=\"none\"/>\n",
              "    <path d=\"M18.56 5.44l.94 2.06.94-2.06 2.06-.94-2.06-.94-.94-2.06-.94 2.06-2.06.94zm-11 1L8.5 8.5l.94-2.06 2.06-.94-2.06-.94L8.5 2.5l-.94 2.06-2.06.94zm10 10l.94 2.06.94-2.06 2.06-.94-2.06-.94-.94-2.06-.94 2.06-2.06.94z\"/><path d=\"M17.41 7.96l-1.37-1.37c-.4-.4-.92-.59-1.43-.59-.52 0-1.04.2-1.43.59L10.3 9.45l-7.72 7.72c-.78.78-.78 2.05 0 2.83L4 21.41c.39.39.9.59 1.41.59.51 0 1.02-.2 1.41-.59l7.78-7.78 2.81-2.81c.8-.78.8-2.07 0-2.86zM5.41 20L4 18.59l7.72-7.72 1.47 1.35L5.41 20z\"/>\n",
              "  </svg>\n",
              "      </button>\n",
              "      \n",
              "  <style>\n",
              "    .colab-df-container {\n",
              "      display:flex;\n",
              "      flex-wrap:wrap;\n",
              "      gap: 12px;\n",
              "    }\n",
              "\n",
              "    .colab-df-convert {\n",
              "      background-color: #E8F0FE;\n",
              "      border: none;\n",
              "      border-radius: 50%;\n",
              "      cursor: pointer;\n",
              "      display: none;\n",
              "      fill: #1967D2;\n",
              "      height: 32px;\n",
              "      padding: 0 0 0 0;\n",
              "      width: 32px;\n",
              "    }\n",
              "\n",
              "    .colab-df-convert:hover {\n",
              "      background-color: #E2EBFA;\n",
              "      box-shadow: 0px 1px 2px rgba(60, 64, 67, 0.3), 0px 1px 3px 1px rgba(60, 64, 67, 0.15);\n",
              "      fill: #174EA6;\n",
              "    }\n",
              "\n",
              "    [theme=dark] .colab-df-convert {\n",
              "      background-color: #3B4455;\n",
              "      fill: #D2E3FC;\n",
              "    }\n",
              "\n",
              "    [theme=dark] .colab-df-convert:hover {\n",
              "      background-color: #434B5C;\n",
              "      box-shadow: 0px 1px 3px 1px rgba(0, 0, 0, 0.15);\n",
              "      filter: drop-shadow(0px 1px 2px rgba(0, 0, 0, 0.3));\n",
              "      fill: #FFFFFF;\n",
              "    }\n",
              "  </style>\n",
              "\n",
              "      <script>\n",
              "        const buttonEl =\n",
              "          document.querySelector('#df-f7a79415-15c5-4698-b4b5-dab5ce856e09 button.colab-df-convert');\n",
              "        buttonEl.style.display =\n",
              "          google.colab.kernel.accessAllowed ? 'block' : 'none';\n",
              "\n",
              "        async function convertToInteractive(key) {\n",
              "          const element = document.querySelector('#df-f7a79415-15c5-4698-b4b5-dab5ce856e09');\n",
              "          const dataTable =\n",
              "            await google.colab.kernel.invokeFunction('convertToInteractive',\n",
              "                                                     [key], {});\n",
              "          if (!dataTable) return;\n",
              "\n",
              "          const docLinkHtml = 'Like what you see? Visit the ' +\n",
              "            '<a target=\"_blank\" href=https://colab.research.google.com/notebooks/data_table.ipynb>data table notebook</a>'\n",
              "            + ' to learn more about interactive tables.';\n",
              "          element.innerHTML = '';\n",
              "          dataTable['output_type'] = 'display_data';\n",
              "          await google.colab.output.renderOutput(dataTable, element);\n",
              "          const docLink = document.createElement('div');\n",
              "          docLink.innerHTML = docLinkHtml;\n",
              "          element.appendChild(docLink);\n",
              "        }\n",
              "      </script>\n",
              "    </div>\n",
              "  </div>\n",
              "  "
            ]
          },
          "metadata": {},
          "execution_count": 122
        }
      ]
    },
    {
      "cell_type": "code",
      "source": [
        ""
      ],
      "metadata": {
        "id": "6T2bYf8MaLk5"
      },
      "execution_count": null,
      "outputs": []
    },
    {
      "cell_type": "code",
      "source": [
        "len(davis_val['Target Sequence'].unique()), len(davis_train['Target Sequence'].unique()), len(davis_test['Target Sequence'].unique()), "
      ],
      "metadata": {
        "colab": {
          "base_uri": "https://localhost:8080/"
        },
        "id": "AWCNTmG1dfBP",
        "outputId": "a6534d78-026e-4afe-b0f0-14a407c912f0"
      },
      "execution_count": null,
      "outputs": [
        {
          "output_type": "execute_result",
          "data": {
            "text/plain": [
              "(378, 372, 379)"
            ]
          },
          "metadata": {},
          "execution_count": 31
        }
      ]
    },
    {
      "cell_type": "code",
      "source": [
        "len(davis_val['SMILES'].unique()), len(davis_train['SMILES'].unique()), len(davis_test['SMILES'].unique()), "
      ],
      "metadata": {
        "colab": {
          "base_uri": "https://localhost:8080/"
        },
        "id": "Nm-cAlwMe4EC",
        "outputId": "37050fd6-e299-44c3-bca9-db163cd913a1"
      },
      "execution_count": null,
      "outputs": [
        {
          "output_type": "execute_result",
          "data": {
            "text/plain": [
              "(68, 68, 68)"
            ]
          },
          "metadata": {},
          "execution_count": 32
        }
      ]
    },
    {
      "cell_type": "code",
      "source": [
        ""
      ],
      "metadata": {
        "id": "SIzv-1-tg6cr"
      },
      "execution_count": null,
      "outputs": []
    },
    {
      "cell_type": "code",
      "source": [
        ""
      ],
      "metadata": {
        "id": "JcbdzTAZaKXM"
      },
      "execution_count": null,
      "outputs": []
    },
    {
      "cell_type": "code",
      "source": [
        ""
      ],
      "metadata": {
        "id": "a41H0pV8aKaA"
      },
      "execution_count": null,
      "outputs": []
    },
    {
      "cell_type": "code",
      "source": [
        ""
      ],
      "metadata": {
        "id": "F4aXFmYyaKdq"
      },
      "execution_count": null,
      "outputs": []
    },
    {
      "cell_type": "markdown",
      "source": [
        "### RANDOM METHOD"
      ],
      "metadata": {
        "id": "V7xSZXsgg6p4"
      }
    },
    {
      "cell_type": "code",
      "source": [
        "# лучше задавать значение по умолчанию, когда будешь писать класс/функцию\n",
        "\n",
        "# https://github.com/bmd2007/benchmark_eval/blob/aa42bb3369e79db4cb63e1963afcc8af6d8f5696/PPIPUtils.py#L354\n",
        "\n",
        "import random\n",
        "\n",
        "seed = 42\n",
        "\n",
        "random.seed(seed)\n",
        "np.random.seed(seed)"
      ],
      "metadata": {
        "id": "CBz4h6jscLfQ"
      },
      "execution_count": null,
      "outputs": []
    },
    {
      "cell_type": "code",
      "source": [
        "# запоминаем 1 и 0 индексы в датасете (строки датафрэйма)\n",
        "\n",
        "pos = davis_train.loc[davis_train.Label == 1, :]\n",
        "neg = davis_train.loc[davis_train.Label == 0, :]"
      ],
      "metadata": {
        "id": "G2XGUd7mJ1lT"
      },
      "execution_count": null,
      "outputs": []
    },
    {
      "cell_type": "code",
      "source": [
        ""
      ],
      "metadata": {
        "id": "yhIWmyV9Lj8O"
      },
      "execution_count": null,
      "outputs": []
    },
    {
      "cell_type": "code",
      "source": [
        ""
      ],
      "metadata": {
        "id": "wCs3WoAELkLL"
      },
      "execution_count": null,
      "outputs": []
    },
    {
      "cell_type": "code",
      "source": [
        "def shuffle_indexes(pos, neg, k, seed=1):\n",
        "    # shuffle all indexes\n",
        "    posIdx = [x for x in range(0,len(pos))]\n",
        "    negIdx = [x for x in range(0,len(neg))]\n",
        "\n",
        "    random.shuffle(posIdx)\n",
        "    random.shuffle(negIdx)\n",
        "\n",
        "    pos = np.asarray(pos)\n",
        "    neg = np.asarray(neg)\n",
        "\n",
        "\n",
        "    # get K folds\n",
        "    trainSplits = []\n",
        "    testSplits = []\n",
        "    for i in range(0,k):\n",
        "        startP = int((i/k)*pos.shape[0])\n",
        "        endP = int(((i+1)/k)* pos.shape[0])\n",
        "        startN = int((i/k)*neg.shape[0])\n",
        "        endN = int(((i+1)/k)* neg.shape[0])\n",
        "        if i == k-1:\n",
        "            endP = pos.shape[0]\n",
        "            endN = neg.shape[0]\n",
        "        a = pos[posIdx[:startP],:]\n",
        "        b = pos[posIdx[endP:],:]\n",
        "        c = neg[negIdx[:startN],:]\n",
        "        d = neg[negIdx[endN:],:]\n",
        "        lst = np.vstack((a,b,c,d))\n",
        "        np.random.shuffle(lst)\n",
        "        trainSplits.append(lst)\n",
        "\n",
        "        e = pos[posIdx[startP:endP],:]\n",
        "        f = neg[negIdx[startN:endN],:]\n",
        "        lst = np.vstack((e,f))\n",
        "        np.random.shuffle(lst)\n",
        "        testSplits.append(lst)\n",
        "\n",
        "    \n",
        "    return trainSplits, testSplits"
      ],
      "metadata": {
        "id": "E33ZUQlRbIPq"
      },
      "execution_count": null,
      "outputs": []
    },
    {
      "cell_type": "code",
      "source": [
        ""
      ],
      "metadata": {
        "id": "D_UWF8ShLSp8"
      },
      "execution_count": null,
      "outputs": []
    },
    {
      "cell_type": "code",
      "source": [
        "def createKFolds(data, k, seed=1):\n",
        "    '''\n",
        "    Делает k фолдов train-validation\n",
        "    '''\n",
        "    pos = data.loc[data.Label == 1, :]\n",
        "    neg = data.loc[data.Label == 0, :]\n",
        "    return shuffle_indexes(pos, neg, k, seed=seed)"
      ],
      "metadata": {
        "id": "6MIa9rpMLSyz"
      },
      "execution_count": null,
      "outputs": []
    },
    {
      "cell_type": "code",
      "source": [
        "tr, val = createKFolds(davis_train, 5)"
      ],
      "metadata": {
        "id": "RnzqpJzkLS38"
      },
      "execution_count": null,
      "outputs": []
    },
    {
      "cell_type": "code",
      "source": [
        "print('размеры train фолдов:', [len(fold) for fold in tr])\n",
        "print('размеры valid фолдов:', [len(fold) for fold in val])"
      ],
      "metadata": {
        "colab": {
          "base_uri": "https://localhost:8080/"
        },
        "id": "RmHhPDQYb-w8",
        "outputId": "4159dbfc-2ef2-43f2-b8ca-58dd261e5a76"
      },
      "execution_count": null,
      "outputs": [
        {
          "output_type": "stream",
          "name": "stdout",
          "text": [
            "размеры train фолдов: [1670, 1668, 1670, 1668, 1668]\n",
            "размеры valid фолдов: [416, 418, 416, 418, 418]\n"
          ]
        }
      ]
    },
    {
      "cell_type": "code",
      "source": [
        ""
      ],
      "metadata": {
        "id": "Q6YZy9NfL7E1"
      },
      "execution_count": null,
      "outputs": []
    },
    {
      "cell_type": "code",
      "source": [
        ""
      ],
      "metadata": {
        "id": "7QU4c6aJL7I0"
      },
      "execution_count": null,
      "outputs": []
    },
    {
      "cell_type": "markdown",
      "source": [
        "$~$\n",
        "\n",
        "### COLD PROTEIN METHOD"
      ],
      "metadata": {
        "id": "zhE1KlIcg_Yw"
      }
    },
    {
      "cell_type": "code",
      "source": [
        "HeldOutProt = 0.1  # какой % белков удержать от появления в тренировочном датасете, чтобы были только в тестовом"
      ],
      "metadata": {
        "id": "6mifoD8-bIWE"
      },
      "execution_count": null,
      "outputs": []
    },
    {
      "cell_type": "code",
      "source": [
        "# задаём число белков, которые войдут в трэин/вал датасет\n",
        "\n",
        "n_prot = int(len(davis_train['Target Sequence'].unique()) * (1 - HeldOutProt))\n",
        "\n",
        "print('Белков пойдёт в train:', n_prot)"
      ],
      "metadata": {
        "colab": {
          "base_uri": "https://localhost:8080/"
        },
        "id": "Q5IvgsPHdJ16",
        "outputId": "501938e8-3bca-4f16-be60-0537a99836ed"
      },
      "execution_count": null,
      "outputs": [
        {
          "output_type": "stream",
          "name": "stdout",
          "text": [
            "Белков пойдёт в train: 334\n"
          ]
        }
      ]
    },
    {
      "cell_type": "code",
      "source": [
        "# выбираем уникальные белки, перемешиваем их, отбираем нужную часть\n",
        "\n",
        "protein_list = davis_train['Target Sequence'].unique()\n",
        "print('Первый белок:', protein_list[0][:15], '...')"
      ],
      "metadata": {
        "colab": {
          "base_uri": "https://localhost:8080/"
        },
        "id": "m3hZhA7WiMXJ",
        "outputId": "e5eae3af-3963-4753-a3c2-ac6fef4811e9"
      },
      "execution_count": null,
      "outputs": [
        {
          "output_type": "stream",
          "name": "stdout",
          "text": [
            "Первый белок: MLKFKYGARNPLDAG ...\n"
          ]
        }
      ]
    },
    {
      "cell_type": "code",
      "source": [
        "random.shuffle(protein_list)\n",
        "print('Всего белков:', len(protein_list))\n",
        "print('Первый белок:', protein_list[0][:15], '...')"
      ],
      "metadata": {
        "colab": {
          "base_uri": "https://localhost:8080/"
        },
        "id": "J-jpcOb8iryn",
        "outputId": "1124265d-801f-466e-b5e1-614a75ecd31b"
      },
      "execution_count": null,
      "outputs": [
        {
          "output_type": "stream",
          "name": "stdout",
          "text": [
            "Всего белков: 372\n",
            "Первый белок: MTVFRQENVDDYYDT ...\n"
          ]
        }
      ]
    },
    {
      "cell_type": "code",
      "source": [
        "# запоминаем белки, которые должны войти в тренировочный и тестовый датасеты\n",
        "\n",
        "protein_train = protein_list[:n_prot]\n",
        "protein_test = protein_list[n_prot:]\n",
        "\n",
        "print('Белков пошло в train:', len(protein_train))\n",
        "print('Белков пошло в test:', len(protein_test))"
      ],
      "metadata": {
        "colab": {
          "base_uri": "https://localhost:8080/"
        },
        "id": "CHoqFPYpdJ4v",
        "outputId": "fa423ebb-3cd8-42be-f3f6-f92480b7dc28"
      },
      "execution_count": null,
      "outputs": [
        {
          "output_type": "stream",
          "name": "stdout",
          "text": [
            "Белков пошло в train: 334\n",
            "Белков пошло в test: 38\n"
          ]
        }
      ]
    },
    {
      "cell_type": "code",
      "source": [
        "# отбираем нужные белки из датафрэйма\n",
        "\n",
        "train_dataset = pd.DataFrame()\n",
        "test_dataset = pd.DataFrame()\n",
        "\n",
        "for i in range(len(davis_train)):\n",
        "    line = davis_train.iloc[i,:]\n",
        "\n",
        "    # предполагая, что в датасете Target Sequence на 2-ой позиции\n",
        "    # МАГИЧЕСКОЕ ЧИСЛО, ИСПРАВИТЬ\n",
        "    if line.to_list()[1] in protein_train:\n",
        "        train_dataset = train_dataset.append(line)\n",
        "    else:\n",
        "        test_dataset = test_dataset.append(line)"
      ],
      "metadata": {
        "id": "on5VIE-VkLrB"
      },
      "execution_count": null,
      "outputs": []
    },
    {
      "cell_type": "code",
      "source": [
        "print('Записей из исходного датафрэйма пошло в train:', len(train_dataset))\n",
        "print('Записей из исходного датафрэйма пошло в test:', len(test_dataset))"
      ],
      "metadata": {
        "colab": {
          "base_uri": "https://localhost:8080/"
        },
        "id": "u1efGtInkLtw",
        "outputId": "a1ff75cc-5e53-4e97-d78e-42c9a0089135"
      },
      "execution_count": null,
      "outputs": [
        {
          "output_type": "stream",
          "name": "stdout",
          "text": [
            "Записей из исходного датафрэйма пошло в train: 1788\n",
            "Записей из исходного датафрэйма пошло в test: 298\n"
          ]
        }
      ]
    },
    {
      "cell_type": "code",
      "source": [
        "# с балансом классов всё ок\n",
        "# но наверное надо как-то контролировать этот момент??\n",
        "# и нужен ли вообще этот баланс\n",
        "\n",
        "print('Для train:')\n",
        "print('После отбора 10% в валидацию, с меткой 1 =', len(train_dataset.loc[train_dataset.Label == 1, :]))\n",
        "print('После отбора 10% в валидацию, с меткой 0 =', len(train_dataset.loc[train_dataset.Label == 0, :]))\n",
        "\n",
        "print('\\nДля test:')\n",
        "print('После отбора 10% в валидацию, с меткой 1 =', len(test_dataset.loc[test_dataset.Label == 1, :]))\n",
        "print('После отбора 10% в валидацию, с меткой 0 =', len(test_dataset.loc[test_dataset.Label == 0, :]))"
      ],
      "metadata": {
        "colab": {
          "base_uri": "https://localhost:8080/"
        },
        "id": "-K0hP-M-jO4T",
        "outputId": "938b7657-2cf1-4a95-eebe-539eccce5278"
      },
      "execution_count": null,
      "outputs": [
        {
          "output_type": "stream",
          "name": "stdout",
          "text": [
            "Для train:\n",
            "После отбора 10% в валидацию, с меткой 1 = 875\n",
            "После отбора 10% в валидацию, с меткой 0 = 913\n",
            "\n",
            "Для test:\n",
            "После отбора 10% в валидацию, с меткой 1 = 168\n",
            "После отбора 10% в валидацию, с меткой 0 = 130\n"
          ]
        }
      ]
    },
    {
      "cell_type": "code",
      "source": [
        "# теперь на тестовую часть можно применить функцию выше, чтобы разделить train --> train+valid фолды"
      ],
      "metadata": {
        "id": "pDyMjsFzjO6e"
      },
      "execution_count": null,
      "outputs": []
    },
    {
      "cell_type": "code",
      "source": [
        "tr, val = createKFolds(train_dataset, k=5)"
      ],
      "metadata": {
        "id": "xCqxDPjMT1Ao"
      },
      "execution_count": null,
      "outputs": []
    },
    {
      "cell_type": "code",
      "source": [
        "print('размеры train фолдов:', [len(fold) for fold in tr])\n",
        "print('размеры valid фолдов:', [len(fold) for fold in val])"
      ],
      "metadata": {
        "colab": {
          "base_uri": "https://localhost:8080/"
        },
        "id": "nRdNbP7VT1Eh",
        "outputId": "c4c71022-2f0f-41ac-c06b-6b6cb922887f"
      },
      "execution_count": null,
      "outputs": [
        {
          "output_type": "stream",
          "name": "stdout",
          "text": [
            "размеры train фолдов: [1431, 1430, 1431, 1430, 1430]\n",
            "размеры valid фолдов: [357, 358, 357, 358, 358]\n"
          ]
        }
      ]
    },
    {
      "cell_type": "markdown",
      "source": [
        "$~$\n",
        "\n",
        "### COLD DRUG METHOD"
      ],
      "metadata": {
        "id": "kyIIG9vKnU2o"
      }
    },
    {
      "cell_type": "code",
      "source": [
        "HeldOutDrug = 0.1  # какой % лекарств удержать от появления в тренировочном датасете, чтобы были только в тестовом"
      ],
      "metadata": {
        "id": "tl1a5dw6nDid"
      },
      "execution_count": null,
      "outputs": []
    },
    {
      "cell_type": "code",
      "source": [
        "# задаём число лекарств, которые войдут в трэин/вал датасет\n",
        "\n",
        "n_drug = int(len(davis_train['SMILES'].unique()) * (1 - HeldOutDrug))\n",
        "print('Лекарств пойдёт в train:', n_drug)"
      ],
      "metadata": {
        "colab": {
          "base_uri": "https://localhost:8080/"
        },
        "id": "N2bMIYDRnDle",
        "outputId": "24dd948b-c929-4a76-8a02-f5fd8ecdaba4"
      },
      "execution_count": null,
      "outputs": [
        {
          "output_type": "stream",
          "name": "stdout",
          "text": [
            "Лекарств пойдёт в train: 61\n"
          ]
        }
      ]
    },
    {
      "cell_type": "code",
      "source": [
        "# выбираем уникальные лекарства, перемешиваем их, отбираем нужную часть\n",
        "\n",
        "drug_list = davis_train['SMILES'].unique()\n",
        "print('Первый drug:', drug_list[0])"
      ],
      "metadata": {
        "colab": {
          "base_uri": "https://localhost:8080/"
        },
        "id": "X-_0jnm1nDn4",
        "outputId": "839284ab-6c5e-4a4d-d13e-b31866b55e1c"
      },
      "execution_count": null,
      "outputs": [
        {
          "output_type": "stream",
          "name": "stdout",
          "text": [
            "Первое drug: CC1=C2C=C(C=CC2=NN1)C3=CC(=CN=C3)OCC(CC4=CC=CC=C4)N\n"
          ]
        }
      ]
    },
    {
      "cell_type": "code",
      "source": [
        "random.shuffle(drug_list)\n",
        "print('Всего drugs:', len(drug_list))\n",
        "print('Первый drug:', drug_list[0])"
      ],
      "metadata": {
        "colab": {
          "base_uri": "https://localhost:8080/"
        },
        "id": "mAmqPScsnj1-",
        "outputId": "2a02a88f-b96c-4284-beec-05a4e9458e5f"
      },
      "execution_count": null,
      "outputs": [
        {
          "output_type": "stream",
          "name": "stdout",
          "text": [
            "Всего drugs: 68\n",
            "Первый drug: CC12C(C(CC(O1)N3C4=CC=CC=C4C5=C6C(=C7C8=CC=CC=C8N2C7=C53)CNC6=O)NC)OC\n"
          ]
        }
      ]
    },
    {
      "cell_type": "code",
      "source": [
        "# запоминаем лекарства, которые должны войти в тренировочный датасет\n",
        "\n",
        "drug_train = drug_list[:n_drug]\n",
        "drug_test = drug_list[n_drug:]\n",
        "\n",
        "print('Drugs пошло в train:', len(drug_train))\n",
        "print('Drugs пошло в test:', len(drug_test))"
      ],
      "metadata": {
        "colab": {
          "base_uri": "https://localhost:8080/"
        },
        "id": "BTKwKGH1nj4t",
        "outputId": "47c94677-f241-411e-9e5b-01194eeb6ecb"
      },
      "execution_count": null,
      "outputs": [
        {
          "output_type": "stream",
          "name": "stdout",
          "text": [
            "Drugs пошло в train: 61\n",
            "Drugs пошло в test: 7\n"
          ]
        }
      ]
    },
    {
      "cell_type": "code",
      "source": [
        "# отбираем нужные лекарства из датафрэйма\n",
        "\n",
        "train_dataset = pd.DataFrame()\n",
        "test_dataset = pd.DataFrame()\n",
        "\n",
        "for i in range(len(davis_train)):\n",
        "    line = davis_train.iloc[i,:]\n",
        "\n",
        "    # предполагая, что в датасете SMILES на 1-ой позиции\n",
        "    # МАГИЧЕСКОЕ ЧИСЛО, ИСПРАВИТЬ\n",
        "    if line.to_list()[0] in drug_train:\n",
        "        train_dataset = train_dataset.append(line)\n",
        "    else:\n",
        "        test_dataset = test_dataset.append(line)"
      ],
      "metadata": {
        "id": "N2dK95qHnj7Z"
      },
      "execution_count": null,
      "outputs": []
    },
    {
      "cell_type": "code",
      "source": [
        "print('Записей из исходного датафрэйма пошло в train:', len(train_dataset))\n",
        "print('Записей из исходного датафрэйма пошло в test:', len(test_dataset))"
      ],
      "metadata": {
        "colab": {
          "base_uri": "https://localhost:8080/"
        },
        "id": "E8fwpUDqn3FQ",
        "outputId": "2e439efe-905c-4e46-adbb-faed9fc3c852"
      },
      "execution_count": null,
      "outputs": [
        {
          "output_type": "stream",
          "name": "stdout",
          "text": [
            "Записей из исходного датафрэйма пошло в train: 1873\n",
            "Записей из исходного датафрэйма пошло в test: 213\n"
          ]
        }
      ]
    },
    {
      "cell_type": "code",
      "source": [
        "# с балансом классов всё ок\n",
        "# но наверное надо как-то контролировать этот момент??\n",
        "# и нужен ли вообще этот баланс\n",
        "\n",
        "print('Для train:')\n",
        "print('После отбора 10% в валидацию, с меткой 1 =', len(train_dataset.loc[train_dataset.Label == 1, :]))\n",
        "print('После отбора 10% в валидацию, с меткой 0 =', len(train_dataset.loc[train_dataset.Label == 0, :]))\n",
        "\n",
        "print('\\nДля test:')\n",
        "print('После отбора 10% в валидацию, с меткой 1 =', len(test_dataset.loc[test_dataset.Label == 1, :]))\n",
        "print('После отбора 10% в валидацию, с меткой 0 =', len(test_dataset.loc[test_dataset.Label == 0, :]))"
      ],
      "metadata": {
        "colab": {
          "base_uri": "https://localhost:8080/"
        },
        "id": "p1QDTQqon3IB",
        "outputId": "6a26a53d-1e1f-4551-f6c8-61ee91a4aa44"
      },
      "execution_count": null,
      "outputs": [
        {
          "output_type": "stream",
          "name": "stdout",
          "text": [
            "Для train:\n",
            "После отбора 10% в валидацию, с меткой 1 = 936\n",
            "После отбора 10% в валидацию, с меткой 0 = 937\n",
            "\n",
            "Для test:\n",
            "После отбора 10% в валидацию, с меткой 1 = 107\n",
            "После отбора 10% в валидацию, с меткой 0 = 106\n"
          ]
        }
      ]
    },
    {
      "cell_type": "code",
      "source": [
        ""
      ],
      "metadata": {
        "id": "KlRiyu9Vn3LB"
      },
      "execution_count": null,
      "outputs": []
    },
    {
      "cell_type": "code",
      "source": [
        "# опять же, полученный train датасет можем делить на фолды\n",
        "\n",
        "tr, val = createKFolds(train_dataset, k=5)\n",
        "print('размеры train фолдов:', [len(fold) for fold in tr])\n",
        "print('размеры valid фолдов:', [len(fold) for fold in val])"
      ],
      "metadata": {
        "id": "q44nSYukoZoC",
        "colab": {
          "base_uri": "https://localhost:8080/"
        },
        "outputId": "eca8dbc4-1f5a-4374-af33-7082107b5dad"
      },
      "execution_count": null,
      "outputs": [
        {
          "output_type": "stream",
          "name": "stdout",
          "text": [
            "размеры train фолдов: [1499, 1499, 1498, 1499, 1497]\n",
            "размеры valid фолдов: [374, 374, 375, 374, 376]\n"
          ]
        }
      ]
    },
    {
      "cell_type": "code",
      "source": [
        ""
      ],
      "metadata": {
        "id": "1nGUY8F7oZql"
      },
      "execution_count": null,
      "outputs": []
    },
    {
      "cell_type": "code",
      "source": [
        ""
      ],
      "metadata": {
        "id": "q0XxPabCaWZQ"
      },
      "execution_count": null,
      "outputs": []
    },
    {
      "cell_type": "markdown",
      "source": [
        "# Модель из статьи"
      ],
      "metadata": {
        "id": "jzFNu9CcaXk_"
      }
    },
    {
      "cell_type": "code",
      "source": [
        "# что-то для себя\n",
        "# https://github.com/bmd2007/benchmark_eval/blob/main/RunTrainTest.py\n",
        "# https://github.com/bmd2007/benchmark_eval/blob/aa42bb3369e79db4cb63e1963afcc8af6d8f5696/ProjectDataLoader.py"
      ],
      "metadata": {
        "id": "7BY7eBoSaWcc"
      },
      "execution_count": null,
      "outputs": []
    },
    {
      "cell_type": "code",
      "source": [
        "# https://github.com/kexinhuang12345/DeepPurpose  -- откуда взята модель\n",
        "\n",
        "!pip install git+https://github.com/bp-kelley/descriptastorus \n",
        "!pip install DeepPurpose"
      ],
      "metadata": {
        "colab": {
          "base_uri": "https://localhost:8080/"
        },
        "id": "enhbE86idAXS",
        "outputId": "f21284c2-308f-41f2-91d1-4c00b89d42bb"
      },
      "execution_count": null,
      "outputs": [
        {
          "output_type": "stream",
          "name": "stdout",
          "text": [
            "Collecting git+https://github.com/bp-kelley/descriptastorus\n",
            "  Cloning https://github.com/bp-kelley/descriptastorus to /tmp/pip-req-build-u69x1el8\n",
            "  Running command git clone -q https://github.com/bp-kelley/descriptastorus /tmp/pip-req-build-u69x1el8\n",
            "Requirement already satisfied: pandas_flavor in /usr/local/lib/python3.7/dist-packages (from descriptastorus==2.3.0.6) (0.2.0)\n",
            "Requirement already satisfied: pandas in /usr/local/lib/python3.7/dist-packages (from pandas_flavor->descriptastorus==2.3.0.6) (1.3.5)\n",
            "Requirement already satisfied: xarray in /usr/local/lib/python3.7/dist-packages (from pandas_flavor->descriptastorus==2.3.0.6) (0.18.2)\n",
            "Requirement already satisfied: numpy>=1.17.3 in /usr/local/lib/python3.7/dist-packages (from pandas->pandas_flavor->descriptastorus==2.3.0.6) (1.21.5)\n",
            "Requirement already satisfied: python-dateutil>=2.7.3 in /usr/local/lib/python3.7/dist-packages (from pandas->pandas_flavor->descriptastorus==2.3.0.6) (2.8.2)\n",
            "Requirement already satisfied: pytz>=2017.3 in /usr/local/lib/python3.7/dist-packages (from pandas->pandas_flavor->descriptastorus==2.3.0.6) (2018.9)\n",
            "Requirement already satisfied: six>=1.5 in /usr/local/lib/python3.7/dist-packages (from python-dateutil>=2.7.3->pandas->pandas_flavor->descriptastorus==2.3.0.6) (1.15.0)\n",
            "Requirement already satisfied: setuptools>=40.4 in /usr/local/lib/python3.7/dist-packages (from xarray->pandas_flavor->descriptastorus==2.3.0.6) (57.4.0)\n",
            "Requirement already satisfied: DeepPurpose in /usr/local/lib/python3.7/dist-packages (0.1.5)\n",
            "Requirement already satisfied: pandas-flavor in /usr/local/lib/python3.7/dist-packages (from DeepPurpose) (0.2.0)\n",
            "Requirement already satisfied: requests in /usr/local/lib/python3.7/dist-packages (from DeepPurpose) (2.23.0)\n",
            "Requirement already satisfied: torch in /usr/local/lib/python3.7/dist-packages (from DeepPurpose) (1.10.0+cu111)\n",
            "Requirement already satisfied: matplotlib in /usr/local/lib/python3.7/dist-packages (from DeepPurpose) (3.2.2)\n",
            "Requirement already satisfied: tqdm in /usr/local/lib/python3.7/dist-packages (from DeepPurpose) (4.63.0)\n",
            "Requirement already satisfied: numpy in /usr/local/lib/python3.7/dist-packages (from DeepPurpose) (1.21.5)\n",
            "Requirement already satisfied: tensorboard in /usr/local/lib/python3.7/dist-packages (from DeepPurpose) (2.8.0)\n",
            "Requirement already satisfied: ax-platform in /usr/local/lib/python3.7/dist-packages (from DeepPurpose) (0.2.4)\n",
            "Requirement already satisfied: dgllife in /usr/local/lib/python3.7/dist-packages (from DeepPurpose) (0.2.9)\n",
            "Requirement already satisfied: lifelines in /usr/local/lib/python3.7/dist-packages (from DeepPurpose) (0.27.0)\n",
            "Requirement already satisfied: scikit-learn in /usr/local/lib/python3.7/dist-packages (from DeepPurpose) (1.0.2)\n",
            "Requirement already satisfied: pandas in /usr/local/lib/python3.7/dist-packages (from DeepPurpose) (1.3.5)\n",
            "Requirement already satisfied: subword-nmt in /usr/local/lib/python3.7/dist-packages (from DeepPurpose) (0.3.8)\n",
            "Requirement already satisfied: prettytable in /usr/local/lib/python3.7/dist-packages (from DeepPurpose) (3.2.0)\n",
            "Requirement already satisfied: wget in /usr/local/lib/python3.7/dist-packages (from DeepPurpose) (3.2)\n",
            "Requirement already satisfied: typeguard in /usr/local/lib/python3.7/dist-packages (from ax-platform->DeepPurpose) (2.7.1)\n",
            "Requirement already satisfied: jinja2 in /usr/local/lib/python3.7/dist-packages (from ax-platform->DeepPurpose) (2.11.3)\n",
            "Requirement already satisfied: botorch==0.6.2 in /usr/local/lib/python3.7/dist-packages (from ax-platform->DeepPurpose) (0.6.2)\n",
            "Requirement already satisfied: scipy in /usr/local/lib/python3.7/dist-packages (from ax-platform->DeepPurpose) (1.7.3)\n",
            "Requirement already satisfied: plotly in /usr/local/lib/python3.7/dist-packages (from ax-platform->DeepPurpose) (5.5.0)\n",
            "Requirement already satisfied: gpytorch>=1.6 in /usr/local/lib/python3.7/dist-packages (from botorch==0.6.2->ax-platform->DeepPurpose) (1.6.0)\n",
            "Requirement already satisfied: multipledispatch in /usr/local/lib/python3.7/dist-packages (from botorch==0.6.2->ax-platform->DeepPurpose) (0.6.0)\n",
            "Requirement already satisfied: typing-extensions in /usr/local/lib/python3.7/dist-packages (from torch->DeepPurpose) (3.10.0.2)\n",
            "Requirement already satisfied: joblib in /usr/local/lib/python3.7/dist-packages (from dgllife->DeepPurpose) (1.1.0)\n",
            "Requirement already satisfied: networkx>=2.1 in /usr/local/lib/python3.7/dist-packages (from dgllife->DeepPurpose) (2.6.3)\n",
            "Requirement already satisfied: hyperopt in /usr/local/lib/python3.7/dist-packages (from dgllife->DeepPurpose) (0.1.2)\n",
            "Requirement already satisfied: chardet<4,>=3.0.2 in /usr/local/lib/python3.7/dist-packages (from requests->DeepPurpose) (3.0.4)\n",
            "Requirement already satisfied: urllib3!=1.25.0,!=1.25.1,<1.26,>=1.21.1 in /usr/local/lib/python3.7/dist-packages (from requests->DeepPurpose) (1.24.3)\n",
            "Requirement already satisfied: certifi>=2017.4.17 in /usr/local/lib/python3.7/dist-packages (from requests->DeepPurpose) (2021.10.8)\n",
            "Requirement already satisfied: idna<3,>=2.5 in /usr/local/lib/python3.7/dist-packages (from requests->DeepPurpose) (2.10)\n",
            "Requirement already satisfied: threadpoolctl>=2.0.0 in /usr/local/lib/python3.7/dist-packages (from scikit-learn->DeepPurpose) (3.1.0)\n",
            "Requirement already satisfied: six in /usr/local/lib/python3.7/dist-packages (from hyperopt->dgllife->DeepPurpose) (1.15.0)\n",
            "Requirement already satisfied: pymongo in /usr/local/lib/python3.7/dist-packages (from hyperopt->dgllife->DeepPurpose) (4.0.2)\n",
            "Requirement already satisfied: future in /usr/local/lib/python3.7/dist-packages (from hyperopt->dgllife->DeepPurpose) (0.16.0)\n",
            "Requirement already satisfied: MarkupSafe>=0.23 in /usr/local/lib/python3.7/dist-packages (from jinja2->ax-platform->DeepPurpose) (2.0.1)\n",
            "Requirement already satisfied: autograd>=1.3 in /usr/local/lib/python3.7/dist-packages (from lifelines->DeepPurpose) (1.3)\n",
            "Requirement already satisfied: autograd-gamma>=0.3 in /usr/local/lib/python3.7/dist-packages (from lifelines->DeepPurpose) (0.5.0)\n",
            "Requirement already satisfied: formulaic>=0.2.2 in /usr/local/lib/python3.7/dist-packages (from lifelines->DeepPurpose) (0.3.2)\n",
            "Requirement already satisfied: interface-meta>=1.2 in /usr/local/lib/python3.7/dist-packages (from formulaic>=0.2.2->lifelines->DeepPurpose) (1.2.5)\n",
            "Requirement already satisfied: wrapt>=1.0 in /usr/local/lib/python3.7/dist-packages (from formulaic>=0.2.2->lifelines->DeepPurpose) (1.14.0)\n",
            "Requirement already satisfied: astor>=0.7.0 in /usr/local/lib/python3.7/dist-packages (from formulaic>=0.2.2->lifelines->DeepPurpose) (0.8.1)\n",
            "Requirement already satisfied: pyparsing!=2.0.4,!=2.1.2,!=2.1.6,>=2.0.1 in /usr/local/lib/python3.7/dist-packages (from matplotlib->DeepPurpose) (3.0.7)\n",
            "Requirement already satisfied: kiwisolver>=1.0.1 in /usr/local/lib/python3.7/dist-packages (from matplotlib->DeepPurpose) (1.4.0)\n",
            "Requirement already satisfied: cycler>=0.10 in /usr/local/lib/python3.7/dist-packages (from matplotlib->DeepPurpose) (0.11.0)\n",
            "Requirement already satisfied: python-dateutil>=2.1 in /usr/local/lib/python3.7/dist-packages (from matplotlib->DeepPurpose) (2.8.2)\n",
            "Requirement already satisfied: pytz>=2017.3 in /usr/local/lib/python3.7/dist-packages (from pandas->DeepPurpose) (2018.9)\n",
            "Requirement already satisfied: xarray in /usr/local/lib/python3.7/dist-packages (from pandas-flavor->DeepPurpose) (0.18.2)\n",
            "Requirement already satisfied: tenacity>=6.2.0 in /usr/local/lib/python3.7/dist-packages (from plotly->ax-platform->DeepPurpose) (8.0.1)\n",
            "Requirement already satisfied: wcwidth in /usr/local/lib/python3.7/dist-packages (from prettytable->DeepPurpose) (0.2.5)\n",
            "Requirement already satisfied: importlib-metadata in /usr/local/lib/python3.7/dist-packages (from prettytable->DeepPurpose) (4.11.3)\n",
            "Requirement already satisfied: zipp>=0.5 in /usr/local/lib/python3.7/dist-packages (from importlib-metadata->prettytable->DeepPurpose) (3.7.0)\n",
            "Requirement already satisfied: mock in /usr/local/lib/python3.7/dist-packages (from subword-nmt->DeepPurpose) (4.0.3)\n",
            "Requirement already satisfied: google-auth<3,>=1.6.3 in /usr/local/lib/python3.7/dist-packages (from tensorboard->DeepPurpose) (1.35.0)\n",
            "Requirement already satisfied: google-auth-oauthlib<0.5,>=0.4.1 in /usr/local/lib/python3.7/dist-packages (from tensorboard->DeepPurpose) (0.4.6)\n",
            "Requirement already satisfied: setuptools>=41.0.0 in /usr/local/lib/python3.7/dist-packages (from tensorboard->DeepPurpose) (57.4.0)\n",
            "Requirement already satisfied: tensorboard-data-server<0.7.0,>=0.6.0 in /usr/local/lib/python3.7/dist-packages (from tensorboard->DeepPurpose) (0.6.1)\n",
            "Requirement already satisfied: absl-py>=0.4 in /usr/local/lib/python3.7/dist-packages (from tensorboard->DeepPurpose) (1.0.0)\n",
            "Requirement already satisfied: markdown>=2.6.8 in /usr/local/lib/python3.7/dist-packages (from tensorboard->DeepPurpose) (3.3.6)\n",
            "Requirement already satisfied: protobuf>=3.6.0 in /usr/local/lib/python3.7/dist-packages (from tensorboard->DeepPurpose) (3.17.3)\n",
            "Requirement already satisfied: werkzeug>=0.11.15 in /usr/local/lib/python3.7/dist-packages (from tensorboard->DeepPurpose) (1.0.1)\n",
            "Requirement already satisfied: wheel>=0.26 in /usr/local/lib/python3.7/dist-packages (from tensorboard->DeepPurpose) (0.37.1)\n",
            "Requirement already satisfied: grpcio>=1.24.3 in /usr/local/lib/python3.7/dist-packages (from tensorboard->DeepPurpose) (1.44.0)\n",
            "Requirement already satisfied: tensorboard-plugin-wit>=1.6.0 in /usr/local/lib/python3.7/dist-packages (from tensorboard->DeepPurpose) (1.8.1)\n",
            "Requirement already satisfied: pyasn1-modules>=0.2.1 in /usr/local/lib/python3.7/dist-packages (from google-auth<3,>=1.6.3->tensorboard->DeepPurpose) (0.2.8)\n",
            "Requirement already satisfied: rsa<5,>=3.1.4 in /usr/local/lib/python3.7/dist-packages (from google-auth<3,>=1.6.3->tensorboard->DeepPurpose) (4.8)\n",
            "Requirement already satisfied: cachetools<5.0,>=2.0.0 in /usr/local/lib/python3.7/dist-packages (from google-auth<3,>=1.6.3->tensorboard->DeepPurpose) (4.2.4)\n",
            "Requirement already satisfied: requests-oauthlib>=0.7.0 in /usr/local/lib/python3.7/dist-packages (from google-auth-oauthlib<0.5,>=0.4.1->tensorboard->DeepPurpose) (1.3.1)\n",
            "Requirement already satisfied: pyasn1<0.5.0,>=0.4.6 in /usr/local/lib/python3.7/dist-packages (from pyasn1-modules>=0.2.1->google-auth<3,>=1.6.3->tensorboard->DeepPurpose) (0.4.8)\n",
            "Requirement already satisfied: oauthlib>=3.0.0 in /usr/local/lib/python3.7/dist-packages (from requests-oauthlib>=0.7.0->google-auth-oauthlib<0.5,>=0.4.1->tensorboard->DeepPurpose) (3.2.0)\n"
          ]
        }
      ]
    },
    {
      "cell_type": "code",
      "source": [
        "from DeepPurpose import DTI as models\n",
        "from DeepPurpose.utils import *\n",
        "from DeepPurpose.dataset import *"
      ],
      "metadata": {
        "colab": {
          "base_uri": "https://localhost:8080/"
        },
        "id": "9ah472BFdTea",
        "outputId": "8c99ef83-0118-420c-b0b4-f6c5af6d26ce"
      },
      "execution_count": null,
      "outputs": [
        {
          "output_type": "stream",
          "name": "stderr",
          "text": [
            "WARNING:root:No normalization for BCUT2D_MWHI\n",
            "WARNING:root:No normalization for BCUT2D_MWLOW\n",
            "WARNING:root:No normalization for BCUT2D_CHGHI\n",
            "WARNING:root:No normalization for BCUT2D_CHGLO\n",
            "WARNING:root:No normalization for BCUT2D_LOGPHI\n",
            "WARNING:root:No normalization for BCUT2D_LOGPLOW\n",
            "WARNING:root:No normalization for BCUT2D_MRHI\n",
            "WARNING:root:No normalization for BCUT2D_MRLOW\n"
          ]
        }
      ]
    },
    {
      "cell_type": "markdown",
      "source": [
        "### Деление данных"
      ],
      "metadata": {
        "id": "wI0jrsZZwmMS"
      }
    },
    {
      "cell_type": "code",
      "source": [
        "# Load Data, an array of SMILES for drug, an array of Amino Acid Sequence for Target and an array of binding values/0-1 label.\n",
        "# e.g. ['Cc1ccc(CNS(=O)(=O)c2ccc(s2)S(N)(=O)=O)cc1', ...], ['MSHHWGYGKHNGPEHWHKDFPIAKGERQSPVDIDTH...', ...], [0.46, 0.49, ...]\n",
        "# In this example, BindingDB with Kd binding score is used.\n",
        "\n",
        "# пример из статьи\n",
        "# X_drug, X_target, y  = process_BindingDB(download_BindingDB(SAVE_PATH),\n",
        "#                                          y = 'Kd', \n",
        "#                                          binary = False, \n",
        "#                                          convert_to_log = True)\n",
        "\n",
        "X_drug, X_target, y  = davis_train['SMILES'].to_list(), davis_train['Target Sequence'].to_list(), davis_train['Label'].to_list()"
      ],
      "metadata": {
        "id": "awpZo32ZdUr-"
      },
      "execution_count": null,
      "outputs": []
    },
    {
      "cell_type": "markdown",
      "source": [
        "$~$\n",
        "\n",
        "У них там встроенные cold start доступны, код может быть полезен!<br>\n",
        "Но можно и свои подать."
      ],
      "metadata": {
        "id": "Wh5hXggXeL1M"
      }
    },
    {
      "cell_type": "code",
      "source": [
        "# Type in the encoding names for drug/protein.\n",
        "drug_encoding, target_encoding = 'CNN', 'Transformer'\n",
        "\n",
        "# Data processing, here we select cold protein split setup.\n",
        "train, val, test = data_process(X_drug, X_target, y, \n",
        "                                drug_encoding, target_encoding, \n",
        "                                split_method='cold_protein', \n",
        "                                frac=[0.7,0.1,0.2])"
      ],
      "metadata": {
        "colab": {
          "base_uri": "https://localhost:8080/"
        },
        "id": "pSpR99vbeGe8",
        "outputId": "450b4d84-5a81-45dd-a0c7-63b5c0596e3e"
      },
      "execution_count": null,
      "outputs": [
        {
          "output_type": "stream",
          "name": "stdout",
          "text": [
            "Drug Target Interaction Prediction Mode...\n",
            "in total: 2086 drug-target pairs\n",
            "encoding drug...\n",
            "unique drugs: 68\n",
            "encoding protein...\n",
            "unique target sequence: 372\n",
            "splitting dataset...\n",
            "Done.\n"
          ]
        }
      ]
    },
    {
      "cell_type": "markdown",
      "source": [
        "$~$\n",
        "\n",
        "### Обучение (вернее взятие готовой модели)"
      ],
      "metadata": {
        "id": "6e0ygaXzwqk8"
      }
    },
    {
      "cell_type": "markdown",
      "source": [
        "Возьмём уже готовую модель, так как обучение колаб не тянет по переполнению RAM"
      ],
      "metadata": {
        "id": "juvDUSjRhDT1"
      }
    },
    {
      "cell_type": "code",
      "source": [
        "# # Generate new model using default parameters; also allow model tuning via input parameters.\n",
        "# config = generate_config(drug_encoding, target_encoding, transformer_n_layer_target = 8)\n",
        "# net = models.model_initialize(**config)\n",
        "\n",
        "# # Train the new model.\n",
        "# # Detailed output including a tidy table storing validation loss, metrics, AUC curves figures and etc. are stored in the ./result folder.\n",
        "# net.train(train, val, test)"
      ],
      "metadata": {
        "id": "0cf_VQXbhAr1"
      },
      "execution_count": null,
      "outputs": []
    },
    {
      "cell_type": "code",
      "source": [
        "from DeepPurpose import DTI as models\n",
        "net = models.model_pretrained(model = 'MPNN_CNN_DAVIS')"
      ],
      "metadata": {
        "colab": {
          "base_uri": "https://localhost:8080/"
        },
        "id": "faQYHNMTevWg",
        "outputId": "8deba43b-1559-49c5-ce2c-78327d679329"
      },
      "execution_count": null,
      "outputs": [
        {
          "output_type": "stream",
          "name": "stdout",
          "text": [
            "Downloading finished... Beginning to extract zip file...\n",
            "pretrained model Successfully Downloaded...\n"
          ]
        }
      ]
    },
    {
      "cell_type": "markdown",
      "source": [
        "$~$\n",
        "\n",
        "Тестирование"
      ],
      "metadata": {
        "id": "oaEngyFvw5Dm"
      }
    },
    {
      "cell_type": "code",
      "source": [
        "X_repurpose = test['SMILES'].to_list()\n",
        "drug_name = [str(i) for i in range(len(test))]\n",
        "target = test['Target Sequence'].to_list()\n",
        "target_name = [str(i) for i in range(len(test))]\n",
        "\n",
        "y_true = test['Label'].to_list()"
      ],
      "metadata": {
        "id": "vzjUhF-fix6c"
      },
      "execution_count": null,
      "outputs": []
    },
    {
      "cell_type": "code",
      "source": [
        "# тестируем готовую модель (учили не на своих данных!)\n",
        "\n",
        "_ = models.virtual_screening(X_repurpose, target, net, drug_name, target_name)"
      ],
      "metadata": {
        "colab": {
          "base_uri": "https://localhost:8080/"
        },
        "id": "KTF6MkiYlBGj",
        "outputId": "2523d921-6764-400b-8264-23027217b223"
      },
      "execution_count": null,
      "outputs": [
        {
          "output_type": "stream",
          "name": "stdout",
          "text": [
            "virtual screening...\n",
            "Drug Target Interaction Prediction Mode...\n",
            "in total: 436 drug-target pairs\n",
            "encoding drug...\n",
            "unique drugs: 67\n",
            "encoding protein...\n",
            "unique target sequence: 74\n",
            "Done.\n",
            "predicting...\n",
            "---------------\n",
            "Virtual Screening Result\n",
            "+------+-----------+-------------+---------------+\n",
            "| Rank | Drug Name | Target Name | Binding Score |\n",
            "+------+-----------+-------------+---------------+\n",
            "|  1   |    352    |     352     |     17.99     |\n",
            "|  2   |    171    |     171     |     17.12     |\n",
            "|  3   |    193    |     193     |     16.84     |\n",
            "|  4   |    299    |     299     |     16.23     |\n",
            "|  5   |    427    |     427     |     13.51     |\n",
            "|  6   |    177    |     177     |     12.66     |\n",
            "|  7   |    158    |     158     |     12.44     |\n",
            "|  8   |    206    |     206     |     12.30     |\n",
            "|  9   |    198    |     198     |     12.27     |\n",
            "|  10  |    210    |     210     |     12.06     |\n",
            "checkout ./result/virtual_screening.txt for the whole list\n",
            "\n"
          ]
        }
      ]
    },
    {
      "cell_type": "markdown",
      "source": [
        "$~$\n",
        "\n",
        "### Вытаскиваем результаты модели из файла"
      ],
      "metadata": {
        "id": "39i3WIRvwflG"
      }
    },
    {
      "cell_type": "markdown",
      "source": [
        "Цель -- просто получить данные в диапазоне [0;1], чтобы потом сигмоидой получить якобы вероятности связывания (раз уж модель выдаёт не то что мы хотим, а какой-то свой Binding Score)\n",
        "\n",
        "Всё это просто для того чтобы убедиться что хоть что-то работает и иметь модель для прогонов."
      ],
      "metadata": {
        "id": "ic2osFtcxZ5j"
      }
    },
    {
      "cell_type": "code",
      "source": [
        "# немного парсим файл с результатами\n",
        "# я конечно выбрал не лучшую модель чтобы смотреть на результат, но для теста пойдёт\n",
        "\n",
        "!cat ./result/virtual_screening.txt | grep -v '+' | awk -F '|' '{print $5}' > 'BindingScores.txt'\n",
        "!cat ./result/virtual_screening.txt | grep -v '+' | awk -F '|' '{print $4}' > 'Names.txt' "
      ],
      "metadata": {
        "id": "8zzdOF50aWk9"
      },
      "execution_count": null,
      "outputs": []
    },
    {
      "cell_type": "code",
      "source": [
        "import math\n",
        "\n",
        "def sigmoid(x):\n",
        "    return 1 / (1 + math.exp(-x))"
      ],
      "metadata": {
        "id": "_IppMSJQmty5"
      },
      "execution_count": null,
      "outputs": []
    },
    {
      "cell_type": "code",
      "source": [
        "with open('BindingScores.txt', 'r') as result_file, open('Names.txt', 'r') as names_file:\n",
        "    dti_scores = {}\n",
        "    flag = 0\n",
        "    for name, score in zip(names_file, result_file):\n",
        "        # пропускаем 1ую строку с заголовком, извращение\n",
        "        if not flag:\n",
        "            flag = 1\n",
        "            continue\n",
        "        dti_scores[int(name.strip())] = float(score.strip())"
      ],
      "metadata": {
        "id": "tX2ufft2aWqn"
      },
      "execution_count": null,
      "outputs": []
    },
    {
      "cell_type": "code",
      "source": [
        "# стандартизуем, чтобы в диапазоне [0;1]\n",
        "\n",
        "dti_scores_arr = np.array([v for k, v in sorted(dti_scores.items(), key=lambda item: item[0])])  # берём сортированные scores. 1ый -- для 1ого белка\n",
        "dti_scores_arr_standartized = ( dti_scores_arr - dti_scores_arr.mean() ) / dti_scores_arr.std()"
      ],
      "metadata": {
        "id": "-X6iUvi-t0m9"
      },
      "execution_count": null,
      "outputs": []
    },
    {
      "cell_type": "code",
      "source": [
        "from sklearn.preprocessing import MinMaxScaler"
      ],
      "metadata": {
        "id": "sMuvWiVTmmAS"
      },
      "execution_count": null,
      "outputs": []
    },
    {
      "cell_type": "code",
      "source": [
        "scaler = MinMaxScaler()\n",
        "dti_scores_arr_standartized = scaler.fit_transform(dti_scores_arr.reshape(-1, 1))"
      ],
      "metadata": {
        "id": "wVdFytxirwHl"
      },
      "execution_count": null,
      "outputs": []
    },
    {
      "cell_type": "code",
      "source": [
        "# полученные данные в диапазоне [0,1] мы принимаем за вероятности (хотя вероятно это и не так)\n",
        "\n",
        "y_proba = dti_scores_arr_standartized.reshape(1,-1)[0]"
      ],
      "metadata": {
        "id": "EY6fmSB1mn4g"
      },
      "execution_count": null,
      "outputs": []
    },
    {
      "cell_type": "markdown",
      "source": [
        "$~$\n",
        "\n",
        "### Метрики"
      ],
      "metadata": {
        "id": "8VwPi3cYxPvs"
      }
    },
    {
      "cell_type": "code",
      "source": [
        "from sklearn.metrics import roc_curve, auc, RocCurveDisplay, accuracy_score, f1_score"
      ],
      "metadata": {
        "id": "rF74HdDOs_yA"
      },
      "execution_count": null,
      "outputs": []
    },
    {
      "cell_type": "code",
      "source": [
        "# roc-кривая\n",
        "fpr, tpr, thresholds = roc_curve(y_true, y_proba)\n",
        "roc_auc = auc(fpr, tpr)\n",
        "\n",
        "display = RocCurveDisplay(fpr=fpr, tpr=tpr, roc_auc=roc_auc)\n",
        "display.plot()"
      ],
      "metadata": {
        "colab": {
          "base_uri": "https://localhost:8080/",
          "height": 296
        },
        "id": "wtnyGheGs_2w",
        "outputId": "dae23de0-81a4-4a67-ca1f-3cb555046ae3"
      },
      "execution_count": null,
      "outputs": [
        {
          "output_type": "execute_result",
          "data": {
            "text/plain": [
              "<sklearn.metrics._plot.roc_curve.RocCurveDisplay at 0x7fb1d2d8a2d0>"
            ]
          },
          "metadata": {},
          "execution_count": 121
        },
        {
          "output_type": "display_data",
          "data": {
            "text/plain": [
              "<Figure size 432x288 with 1 Axes>"
            ],
            "image/png": "[encoded data removed]"
          },
          "metadata": {
            "needs_background": "light"
          }
        }
      ]
    },
    {
      "cell_type": "code",
      "source": [
        "precision = tpr / (tpr + fpr)\n",
        "\n",
        "f1 = 2 * precision * tpr / (tpr + precision + 0.00001)\n",
        "\n",
        "thred_optim = thresholds[5:][np.argmax(f1[5:])]\n",
        "\n",
        "print(\"optimal threshold: \" + str(thred_optim))"
      ],
      "metadata": {
        "colab": {
          "base_uri": "https://localhost:8080/"
        },
        "id": "Jzf5i4kjtR1f",
        "outputId": "0fb986e6-d8e0-4ca2-9aa0-69f69cda16fc"
      },
      "execution_count": null,
      "outputs": [
        {
          "output_type": "stream",
          "name": "stdout",
          "text": [
            "optimal threshold: 0.0830842797369994\n"
          ]
        },
        {
          "output_type": "stream",
          "name": "stderr",
          "text": [
            "/usr/local/lib/python3.7/dist-packages/ipykernel_launcher.py:1: RuntimeWarning: invalid value encountered in true_divide\n",
            "  \"\"\"Entry point for launching an IPython kernel.\n"
          ]
        }
      ]
    },
    {
      "cell_type": "code",
      "source": [
        "auc_k = auc(fpr, tpr)\n",
        "print(\"AUROC:\" + str(auc_k))"
      ],
      "metadata": {
        "colab": {
          "base_uri": "https://localhost:8080/"
        },
        "id": "SSj6PmJ5tdc8",
        "outputId": "0dcb8886-c4e8-4ef4-f96d-aecb7ca77f77"
      },
      "execution_count": null,
      "outputs": [
        {
          "output_type": "stream",
          "name": "stdout",
          "text": [
            "AUROC:0.5913951334512082\n"
          ]
        }
      ]
    },
    {
      "cell_type": "code",
      "source": [
        ""
      ],
      "metadata": {
        "id": "W0BUe6buu0ks"
      },
      "execution_count": null,
      "outputs": []
    },
    {
      "cell_type": "code",
      "source": [
        ""
      ],
      "metadata": {
        "id": "wpK3NihZu0pb"
      },
      "execution_count": null,
      "outputs": []
    },
    {
      "cell_type": "code",
      "source": [
        ""
      ],
      "metadata": {
        "id": "ovB47frctdhF"
      },
      "execution_count": null,
      "outputs": []
    },
    {
      "cell_type": "code",
      "source": [
        ""
      ],
      "metadata": {
        "id": "7HNpGL73tR5q"
      },
      "execution_count": null,
      "outputs": []
    },
    {
      "cell_type": "markdown",
      "source": [
        "$~$"
      ],
      "metadata": {
        "id": "OrDnPeqzdc1g"
      }
    },
    {
      "cell_type": "markdown",
      "source": [
        "# Образцы кода, можно не смотреть"
      ],
      "metadata": {
        "id": "zblfsKaJdXM-"
      }
    },
    {
      "cell_type": "markdown",
      "source": [
        "### Подготовка данных"
      ],
      "metadata": {
        "id": "hm12JCjGjvyU"
      }
    },
    {
      "cell_type": "code",
      "source": [
        "# Конвертация smiles в набор признаков и создание датасета NumpyDataset.\n",
        "# Для каждого узла (атома) получаем в 30 признаков, и 11 признаков для каждого ребра.\n",
        "# https://deepchem.readthedocs.io/en/latest/api_reference/featurizers.html#molgraphconvfeaturizer\n",
        "\n",
        "featurizer = dc.feat.MolGraphConvFeaturizer()\n",
        "\n",
        "smiles = davis_train['SMILES']\n",
        "X = featurizer.featurize(smiles)\n",
        "y = davis_train['Label']\n",
        "\n",
        "dataset = dc.data.NumpyDataset(X=X, y=y)"
      ],
      "metadata": {
        "id": "goTMdGwJffAy"
      },
      "execution_count": null,
      "outputs": []
    },
    {
      "cell_type": "code",
      "source": [
        "dataset"
      ],
      "metadata": {
        "colab": {
          "base_uri": "https://localhost:8080/"
        },
        "id": "86-mYC8PVgCu",
        "outputId": "b03fddd9-7eb9-4aa8-a41d-61abe612bd41"
      },
      "execution_count": null,
      "outputs": [
        {
          "output_type": "execute_result",
          "data": {
            "text/plain": [
              "<NumpyDataset X.shape: (2086,), y.shape: (2086,), w.shape: (2086,), task_names: [0]>"
            ]
          },
          "metadata": {},
          "execution_count": 36
        }
      ]
    },
    {
      "cell_type": "code",
      "source": [
        "smiles_test = davis_test['SMILES']\n",
        "X_test = featurizer.featurize(smiles_test)\n",
        "y_test = davis_test['Label']\n",
        "\n",
        "dataset_test = dc.data.NumpyDataset(X=X_test, y=y_test)"
      ],
      "metadata": {
        "id": "C4joQdjvVCG5"
      },
      "execution_count": null,
      "outputs": []
    },
    {
      "cell_type": "code",
      "source": [
        "dataset_test"
      ],
      "metadata": {
        "colab": {
          "base_uri": "https://localhost:8080/"
        },
        "id": "UPSrVpJtVhGe",
        "outputId": "1229180a-4556-4988-e03a-a3afe91f74ba"
      },
      "execution_count": null,
      "outputs": [
        {
          "output_type": "execute_result",
          "data": {
            "text/plain": [
              "<NumpyDataset X.shape: (6011,), y.shape: (6011,), w.shape: (6011,), task_names: [0]>"
            ]
          },
          "metadata": {},
          "execution_count": 56
        }
      ]
    },
    {
      "cell_type": "code",
      "source": [
        "# разделение выборки на тренировочную и тестовую части (без валидации)\n",
        "\n",
        "# splitter = dc.splits.RandomSplitter()\n",
        "# train_dataset, test_dataset = splitter.train_test_split(dataset=dataset, frac_train=0.9)"
      ],
      "metadata": {
        "id": "9YDD-N-LiugY"
      },
      "execution_count": null,
      "outputs": []
    },
    {
      "cell_type": "markdown",
      "source": [
        "### Обучение модели"
      ],
      "metadata": {
        "id": "lXJEKzCbjzHs"
      }
    },
    {
      "cell_type": "code",
      "source": [
        "# обучаем коробочную модель\n",
        "\n",
        "losses = []\n",
        "\n",
        "model = GCNModel(mode='classification', n_classes=2,\n",
        "                 n_tasks=1,\n",
        "                 batch_size=64, learning_rate=0.001)\n",
        "\n",
        "loss = model.fit(dataset, nb_epoch=20, all_losses = losses)"
      ],
      "metadata": {
        "colab": {
          "base_uri": "https://localhost:8080/"
        },
        "id": "0RNMOG8Zjg7l",
        "outputId": "519b0c99-fd09-4059-b9fa-660ca9a47814"
      },
      "execution_count": null,
      "outputs": [
        {
          "output_type": "stream",
          "name": "stderr",
          "text": [
            "/usr/local/lib/python3.7/dist-packages/torch/autocast_mode.py:141: UserWarning: User provided device_type of 'cuda', but CUDA is not available. Disabling\n",
            "  warnings.warn('User provided device_type of \\'cuda\\', but CUDA is not available. Disabling')\n"
          ]
        }
      ]
    },
    {
      "cell_type": "code",
      "source": [
        "losses"
      ],
      "metadata": {
        "colab": {
          "base_uri": "https://localhost:8080/"
        },
        "id": "RJYJY9U0XZb_",
        "outputId": "7f18b607-b887-4737-98a5-58614e4fdf60"
      },
      "execution_count": null,
      "outputs": [
        {
          "output_type": "execute_result",
          "data": {
            "text/plain": [
              "[0.6131621551513672,\n",
              " 0.5766540908813477,\n",
              " 0.5641211318969727,\n",
              " 0.5576749801635742,\n",
              " 0.5571578979492188,\n",
              " 0.5536133575439454,\n",
              " 0.553451410929362]"
            ]
          },
          "metadata": {},
          "execution_count": 49
        }
      ]
    },
    {
      "cell_type": "code",
      "source": [
        "# параметры модели\n",
        "\n",
        "# model._pytorch_optimizer"
      ],
      "metadata": {
        "id": "9MiM4S7Sma0_"
      },
      "execution_count": null,
      "outputs": []
    },
    {
      "cell_type": "markdown",
      "source": [
        "### Оценка модели"
      ],
      "metadata": {
        "id": "i95_F7Nwl8Hm"
      }
    },
    {
      "cell_type": "code",
      "source": [
        "# Получение предсказаний\n",
        "\n",
        "y_proba = model.predict(dataset_test)\n",
        "y_pred = np.argmax(y_proba, axis=1)  # модель выдаёт предсказания как вероятность отнесения к каждому классу\n",
        "y_true = dataset_test.y.tolist()"
      ],
      "metadata": {
        "id": "7_B-E_MEjoTJ"
      },
      "execution_count": null,
      "outputs": []
    },
    {
      "cell_type": "code",
      "source": [
        "y_proba"
      ],
      "metadata": {
        "colab": {
          "base_uri": "https://localhost:8080/"
        },
        "id": "U4WTz2GBa8e3",
        "outputId": "7fd9f8a1-703b-44c0-fc6c-bcb2011a1649"
      },
      "execution_count": null,
      "outputs": [
        {
          "output_type": "execute_result",
          "data": {
            "text/plain": [
              "array([[0.8203111 , 0.17968886],\n",
              "       [0.37350973, 0.62649024],\n",
              "       [0.68542886, 0.31457114],\n",
              "       ...,\n",
              "       [0.6053793 , 0.39462075],\n",
              "       [0.6782785 , 0.32172152],\n",
              "       [0.3715299 , 0.62847006]], dtype=float32)"
            ]
          },
          "metadata": {},
          "execution_count": 86
        }
      ]
    },
    {
      "cell_type": "code",
      "source": [
        "# Визуализируем изменение loss'а (отрезали первое большое значение)\n",
        "\n",
        "loss_indices = [i for i,l in enumerate(losses[1:])] \n",
        "plt = sns.lineplot(loss_indices, losses[1:])\n",
        "plt"
      ],
      "metadata": {
        "colab": {
          "base_uri": "https://localhost:8080/",
          "height": 337
        },
        "id": "FR0uA7Gnjg-V",
        "outputId": "79824f61-239c-41a6-9022-8587cc9a06da"
      },
      "execution_count": null,
      "outputs": [
        {
          "output_type": "stream",
          "name": "stderr",
          "text": [
            "/usr/local/lib/python3.7/dist-packages/seaborn/_decorators.py:43: FutureWarning: Pass the following variables as keyword args: x, y. From version 0.12, the only valid positional argument will be `data`, and passing other arguments without an explicit keyword will result in an error or misinterpretation.\n",
            "  FutureWarning\n"
          ]
        },
        {
          "output_type": "execute_result",
          "data": {
            "text/plain": [
              "<matplotlib.axes._subplots.AxesSubplot at 0x7f6986ebcfd0>"
            ]
          },
          "metadata": {},
          "execution_count": 47
        },
        {
          "output_type": "display_data",
          "data": {
            "text/plain": [
              "<Figure size 432x288 with 1 Axes>"
            ],
            "image/png": "[encoded data removed]"
          },
          "metadata": {
            "needs_background": "light"
          }
        }
      ]
    },
    {
      "cell_type": "code",
      "source": [
        "# результаты предсказания занесём в датасет\n",
        "\n",
        "data_results = pd.DataFrame() \n",
        "data_results[\"y_real\"] = y_true\n",
        "data_results[\"y_pred\"] = y_pred"
      ],
      "metadata": {
        "id": "_UGToIY0nkO-"
      },
      "execution_count": null,
      "outputs": []
    },
    {
      "cell_type": "code",
      "source": [
        "# Визуализируем полученные результаты\n",
        "\n",
        "# plt = sns.scatterplot(data=data_results, x=\"y_real\", y=\"y_pred\")\n",
        "# plt.set(xlim=(-7, 2))\n",
        "# plt.set(ylim=(-7, 2))\n",
        "# plt"
      ],
      "metadata": {
        "id": "EEEodX1jjhA4"
      },
      "execution_count": null,
      "outputs": []
    },
    {
      "cell_type": "code",
      "source": [
        "# Получим основные метрики для тестовой выборки\n",
        "\n",
        "# r2_score(y_pred, y_true), mean_squared_error(y_pred, y_true, squared = False)"
      ],
      "metadata": {
        "id": "-Y2RLuUjdGB8"
      },
      "execution_count": null,
      "outputs": []
    },
    {
      "cell_type": "code",
      "source": [
        "from sklearn.metrics import accuracy_score, classification_report, confusion_matrix "
      ],
      "metadata": {
        "id": "h9RrcXsiFTH7"
      },
      "execution_count": null,
      "outputs": []
    },
    {
      "cell_type": "code",
      "source": [
        "print('Матрица неточностей (правильные прогнозы на главной диагонали):')\n",
        "print(confusion_matrix(y_true, y_pred))  \n",
        "\n",
        "# Отчёт о классификации\n",
        "print('\\nОтчёт:')\n",
        "print(classification_report(y_true, y_pred))\n",
        "\n",
        "print(f'accuracy = {accuracy_score(y_true, y_pred):.3f}')"
      ],
      "metadata": {
        "colab": {
          "base_uri": "https://localhost:8080/"
        },
        "id": "kY-fN_CAFTKn",
        "outputId": "c033e42a-ed04-420c-ca1d-c8de3f839086"
      },
      "execution_count": null,
      "outputs": [
        {
          "output_type": "stream",
          "name": "stdout",
          "text": [
            "Матрица неточностей (правильные прогнозы на главной диагонали):\n",
            "[[2923 2785]\n",
            " [  53  250]]\n",
            "\n",
            "Отчёт:\n",
            "              precision    recall  f1-score   support\n",
            "\n",
            "           0       0.98      0.51      0.67      5708\n",
            "           1       0.08      0.83      0.15       303\n",
            "\n",
            "    accuracy                           0.53      6011\n",
            "   macro avg       0.53      0.67      0.41      6011\n",
            "weighted avg       0.94      0.53      0.65      6011\n",
            "\n",
            "accuracy = 0.528\n"
          ]
        }
      ]
    },
    {
      "cell_type": "code",
      "source": [
        ""
      ],
      "metadata": {
        "id": "md0BulyIZ0C7"
      },
      "execution_count": null,
      "outputs": []
    },
    {
      "cell_type": "code",
      "source": [
        "from sklearn.metrics import roc_curve, auc, RocCurveDisplay, accuracy_score, f1_score"
      ],
      "metadata": {
        "id": "_8wpY6Y1FTNP"
      },
      "execution_count": null,
      "outputs": []
    },
    {
      "cell_type": "code",
      "source": [
        "# для начала посмотрим на roc-кривую\n",
        "fpr, tpr, thresholds = roc_curve(y_true, y_proba[:,1], )\n",
        "roc_auc = auc(fpr, tpr)\n",
        "\n",
        "display = RocCurveDisplay(fpr=fpr, tpr=tpr, roc_auc=roc_auc)\n",
        "display.plot()"
      ],
      "metadata": {
        "colab": {
          "base_uri": "https://localhost:8080/",
          "height": 296
        },
        "id": "s76CLrfdZh-f",
        "outputId": "51d7d9ea-2824-4194-8ea1-bd26f7ec9b06"
      },
      "execution_count": null,
      "outputs": [
        {
          "output_type": "execute_result",
          "data": {
            "text/plain": [
              "<sklearn.metrics._plot.roc_curve.RocCurveDisplay at 0x7f68166bdf10>"
            ]
          },
          "metadata": {},
          "execution_count": 90
        },
        {
          "output_type": "display_data",
          "data": {
            "text/plain": [
              "<Figure size 432x288 with 1 Axes>"
            ],
            "image/png": "[encoded data removed]"
          },
          "metadata": {
            "needs_background": "light"
          }
        }
      ]
    },
    {
      "cell_type": "code",
      "source": [
        "precision = tpr / (tpr + fpr)\n",
        "\n",
        "f1 = 2 * precision * tpr / (tpr + precision + 0.00001)\n",
        "\n",
        "thred_optim = thresholds[5:][np.argmax(f1[5:])]\n",
        "\n",
        "print(\"optimal threshold: \" + str(thred_optim))"
      ],
      "metadata": {
        "colab": {
          "base_uri": "https://localhost:8080/"
        },
        "id": "-mEDK9ZyZiA3",
        "outputId": "6b1de9e9-f9aa-4e12-c43d-b4037f011fd2"
      },
      "execution_count": null,
      "outputs": [
        {
          "output_type": "stream",
          "name": "stdout",
          "text": [
            "optimal threshold: 0.35503325\n"
          ]
        },
        {
          "output_type": "stream",
          "name": "stderr",
          "text": [
            "/usr/local/lib/python3.7/dist-packages/ipykernel_launcher.py:1: RuntimeWarning: invalid value encountered in true_divide\n",
            "  \"\"\"Entry point for launching an IPython kernel.\n"
          ]
        }
      ]
    },
    {
      "cell_type": "code",
      "source": [
        "auc_k = auc(fpr, tpr)\n",
        "print(\"AUROC:\" + str(auc_k))"
      ],
      "metadata": {
        "colab": {
          "base_uri": "https://localhost:8080/"
        },
        "id": "5hwkUyS4FTP4",
        "outputId": "300a2cf7-430b-47fe-e9f8-57ef39a04080"
      },
      "execution_count": null,
      "outputs": [
        {
          "output_type": "stream",
          "name": "stdout",
          "text": [
            "AUROC:0.7887881289880916\n"
          ]
        }
      ]
    },
    {
      "cell_type": "code",
      "source": [
        ""
      ],
      "metadata": {
        "id": "Kh9ZpLj8fgkx"
      },
      "execution_count": null,
      "outputs": []
    },
    {
      "cell_type": "code",
      "source": [
        ""
      ],
      "metadata": {
        "id": "6X5ZsA_Xfgm7"
      },
      "execution_count": null,
      "outputs": []
    }
  ]
}